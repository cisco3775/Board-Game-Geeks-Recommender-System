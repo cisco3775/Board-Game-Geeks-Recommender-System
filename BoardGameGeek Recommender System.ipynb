{
 "cells": [
  {
   "cell_type": "code",
   "execution_count": 4,
   "metadata": {},
   "outputs": [
    {
     "name": "stdout",
     "output_type": "stream",
     "text": [
      "<Response [200]>\n"
     ]
    }
   ],
   "source": [
    "import requests\n",
    "from xml.etree import ElementTree as ET\n",
    "\n",
    "response = requests.get('https://www.boardgamegeek.com/xmlapi2/thing?id=13')\n",
    "print(response)\n",
    "tree = ET.fromstring(response.content)"
   ]
  },
  {
   "cell_type": "code",
   "execution_count": 5,
   "metadata": {},
   "outputs": [],
   "source": [
    "# List of all the elements\n",
    "#[elem.tag for elem in tree.iter()]"
   ]
  },
  {
   "cell_type": "code",
   "execution_count": 6,
   "metadata": {},
   "outputs": [],
   "source": [
    "# See the whole text in XML format\n",
    "#print(ET.tostring(tree, encoding='utf8').decode('utf8'))"
   ]
  },
  {
   "cell_type": "markdown",
   "metadata": {},
   "source": [
    "### The max number of pages on the API is 283939\n",
    "\n",
    "The number after \"id=\" in the website name below goes from 0 to 283939. However, page 0 doesn't contain any data so I skip it in the coding below.\n",
    "\n",
    "https://www.boardgamegeek.com/xmlapi2/thing?id=1 \n",
    "\n"
   ]
  },
  {
   "cell_type": "code",
   "execution_count": 7,
   "metadata": {},
   "outputs": [
    {
     "name": "stdout",
     "output_type": "stream",
     "text": [
      "boardgame:  Catan\n",
      "year published:  1995\n",
      "min players:  3\n",
      "max players:  4\n",
      "playing time:  120 minutes\n",
      "min playing time:  60 minutes\n",
      "max playing time:  120 minutes\n",
      "category:  ['Negotiation']\n",
      "boardgame mechanic:  ['Dice Rolling', 'Modular Board', 'Route/Network Building', 'Trading']\n"
     ]
    }
   ],
   "source": [
    "# Code to download the pertinent info from the boardgame page\n",
    "\n",
    "if tree[0].attrib['type'] == 'boardgame':\n",
    "    boardgamecategory = []\n",
    "    boardgamemechanic = []\n",
    "    for i in range(len(tree[0])):\n",
    "        if tree[0][i].tag == 'name':\n",
    "            if tree[0][i].attrib['type'] == 'primary':\n",
    "                boardgame_name = tree[0][i].attrib['value']\n",
    "        elif tree[0][i].tag == 'yearpublished':\n",
    "            year_publ = tree[0][i].attrib['value']\n",
    "        elif tree[0][i].tag == 'minplayers':\n",
    "            minplayers = tree[0][i].attrib['value']\n",
    "        elif tree[0][i].tag == 'maxplayers':\n",
    "            maxplayers = tree[0][i].attrib['value']     \n",
    "        elif tree[0][i].tag == 'playingtime':\n",
    "            playingtime = tree[0][i].attrib['value'] \n",
    "        elif tree[0][i].tag == 'minplaytime':\n",
    "            minplaytime = tree[0][i].attrib['value'] \n",
    "        elif tree[0][i].tag == 'maxplaytime':\n",
    "            maxplaytime = tree[0][i].attrib['value']\n",
    "        elif tree[0][i].tag == 'link':\n",
    "            if tree[0][i].attrib['type'] == 'boardgamecategory':\n",
    "                boardgamecategory.append(tree[0][i].attrib['value'])\n",
    "            elif tree[0][i].attrib['type'] == 'boardgamemechanic':\n",
    "                boardgamemechanic.append(tree[0][i].attrib['value'])\n",
    "\n",
    "    \n",
    "    print('boardgame: ', boardgame_name)\n",
    "    print('year published: ', year_publ)\n",
    "    print('min players: ', minplayers)\n",
    "    print('max players: ', maxplayers)\n",
    "    print('playing time: ', playingtime, 'minutes')\n",
    "    print('min playing time: ', minplaytime, 'minutes')\n",
    "    print('max playing time: ', maxplaytime, 'minutes')\n",
    "    print('category: ', boardgamecategory)\n",
    "    print('boardgame mechanic: ', boardgamemechanic)\n",
    "    "
   ]
  },
  {
   "cell_type": "code",
   "execution_count": 8,
   "metadata": {
    "collapsed": true
   },
   "outputs": [],
   "source": [
    "# Creating a function to get the boardgame data from each page\n",
    "\n",
    "def boardgame_info(tree):\n",
    "    if tree[0].attrib['type'] == 'boardgame':\n",
    "        boardgamecategory = []\n",
    "        boardgamemechanic = []\n",
    "        for i in range(len(tree[0])):\n",
    "            if tree[0][i].tag == 'name':\n",
    "                if tree[0][i].attrib['type'] == 'primary':\n",
    "                    boardgame_name = tree[0][i].attrib['value']\n",
    "            elif tree[0][i].tag == 'yearpublished':\n",
    "                year_publ = tree[0][i].attrib['value']\n",
    "            elif tree[0][i].tag == 'minplayers':\n",
    "                minplayers = tree[0][i].attrib['value']\n",
    "            elif tree[0][i].tag == 'maxplayers':\n",
    "                maxplayers = tree[0][i].attrib['value']     \n",
    "            elif tree[0][i].tag == 'playingtime':\n",
    "                playingtime = tree[0][i].attrib['value'] \n",
    "            elif tree[0][i].tag == 'minplaytime':\n",
    "                minplaytime = tree[0][i].attrib['value'] \n",
    "            elif tree[0][i].tag == 'maxplaytime':\n",
    "                maxplaytime = tree[0][i].attrib['value']\n",
    "            elif tree[0][i].tag == 'link':\n",
    "                if tree[0][i].attrib['type'] == 'boardgamecategory':\n",
    "                    boardgamecategory.append(tree[0][i].attrib['value'])\n",
    "                elif tree[0][i].attrib['type'] == 'boardgamemechanic':\n",
    "                    boardgamemechanic.append(tree[0][i].attrib['value'])\n",
    "        return boardgame_name, year_publ, minplayers, maxplayers, playingtime, minplaytime, maxplaytime, boardgamecategory, boardgamemechanic"
   ]
  },
  {
   "cell_type": "code",
   "execution_count": 9,
   "metadata": {},
   "outputs": [
    {
     "data": {
      "text/plain": [
       "('Catan',\n",
       " '1995',\n",
       " '3',\n",
       " '4',\n",
       " '120',\n",
       " '60',\n",
       " '120',\n",
       " ['Negotiation'],\n",
       " ['Dice Rolling', 'Modular Board', 'Route/Network Building', 'Trading'])"
      ]
     },
     "execution_count": 9,
     "metadata": {},
     "output_type": "execute_result"
    }
   ],
   "source": [
    "# Testing to make sure the function works\n",
    "\n",
    "boardgame_info(tree)"
   ]
  },
  {
   "cell_type": "code",
   "execution_count": 10,
   "metadata": {},
   "outputs": [
    {
     "name": "stdout",
     "output_type": "stream",
     "text": [
      "('Die Macher', '1986', '3', '5', '240', '240', '240', ['Economic', 'Negotiation', 'Political'], ['Area Control / Area Influence', 'Auction/Bidding', 'Dice Rolling', 'Hand Management', 'Simultaneous Action Selection']) \n",
      "\n",
      "('Dragonmaster', '1981', '3', '4', '30', '30', '30', ['Card Game', 'Fantasy'], ['Trick-taking']) \n",
      "\n",
      "('Samurai', '1998', '2', '4', '60', '30', '60', ['Abstract Strategy', 'Medieval'], ['Area Control / Area Influence', 'Hand Management', 'Set Collection', 'Tile Placement']) \n",
      "\n",
      "('Tal der Könige', '1992', '2', '4', '60', '60', '60', ['Ancient'], ['Action Point Allowance System', 'Area Control / Area Influence', 'Auction/Bidding', 'Set Collection']) \n",
      "\n",
      "('Acquire', '1964', '2', '6', '90', '90', '90', ['Economic'], ['Hand Management', 'Stock Holding', 'Tile Placement']) \n",
      "\n",
      "('Mare Mediterraneum', '1989', '2', '6', '240', '240', '240', ['Civilization', 'Nautical'], ['Dice Rolling']) \n",
      "\n",
      "('Cathedral', '1978', '2', '2', '20', '20', '20', ['Abstract Strategy'], ['Area Enclosure', 'Pattern Building', 'Pattern Recognition', 'Tile Placement']) \n",
      "\n",
      "('Lords of Creation', '1993', '2', '5', '120', '120', '120', ['Civilization', 'Fantasy'], ['Modular Board']) \n",
      "\n",
      "('El Caballero', '1998', '2', '4', '90', '90', '90', ['Exploration'], ['Area Control / Area Influence', 'Tile Placement']) \n",
      "\n",
      "('Elfenland', '1998', '2', '6', '60', '60', '60', ['Fantasy', 'Travel'], ['Card Drafting', 'Hand Management', 'Point to Point Movement', 'Route/Network Building']) \n",
      "\n",
      "('Bohnanza', '1997', '2', '7', '45', '45', '45', ['Card Game', 'Farming', 'Negotiation'], ['Hand Management', 'Set Collection', 'Trading']) \n",
      "\n",
      "('Ra', '1999', '2', '5', '60', '45', '60', ['Ancient', 'Mythology'], ['Auction/Bidding', 'Press Your Luck', 'Set Collection']) \n",
      "\n",
      "('Catan', '1995', '3', '4', '120', '60', '120', ['Negotiation'], ['Dice Rolling', 'Modular Board', 'Route/Network Building', 'Trading']) \n",
      "\n"
     ]
    }
   ],
   "source": [
    "# Looping through the first several pages and getting all the necessary boardgame info with the function boardgame_info()\n",
    "\n",
    "site = 'https://www.boardgamegeek.com/xmlapi2/thing?id='\n",
    "page_num = 0\n",
    "for i in range(14):\n",
    "    if i > 0:\n",
    "        page_num = i\n",
    "        website = site+str(page_num)\n",
    "        response = requests.get(website)\n",
    "        tree = ET.fromstring(response.content)\n",
    "        #do this only for the ones that = 'boardgame'\n",
    "        if len(tree) > 0 and tree[0].attrib['type'] == 'boardgame':\n",
    "            print(boardgame_info(tree), '\\n')"
   ]
  },
  {
   "cell_type": "code",
   "execution_count": null,
   "metadata": {
    "collapsed": true
   },
   "outputs": [],
   "source": []
  },
  {
   "cell_type": "code",
   "execution_count": null,
   "metadata": {
    "collapsed": true
   },
   "outputs": [],
   "source": [
    "# Test to see if I can loop through every boardgame page of the API \n",
    "\n",
    "site = 'https://www.boardgamegeek.com/xmlapi2/thing?id='\n",
    "page_num = 0\n",
    "count = 0\n",
    "for i in range(283940):\n",
    "    if i > 0:\n",
    "        page_num = i\n",
    "        website = site+str(page_num)\n",
    "        response = requests.get(website)\n",
    "        tree = ET.fromstring(response.content)\n",
    "        #do this only for the ones that = 'boardgame'\n",
    "        #if len(tree) > 0 and tree[0].attrib['type'] == 'boardgame':\n",
    "        count += 1\n",
    "            #print(i)\n",
    "print(count)\n",
    "\n",
    "# This code failed. Error message below"
   ]
  },
  {
   "cell_type": "markdown",
   "metadata": {},
   "source": [
    "### The below is the error received after running the previous cell"
   ]
  },
  {
   "cell_type": "markdown",
   "metadata": {},
   "source": [
    "---------------------------------------------------------------------------\n",
    "TimeoutError                              Traceback (most recent call last)\n",
    "~\\Anaconda3\\lib\\site-packages\\urllib3\\connection.py in _new_conn(self)\n",
    "    140             conn = connection.create_connection(\n",
    "--> 141                 (self.host, self.port), self.timeout, **extra_kw)\n",
    "    142 \n",
    "\n",
    "~\\Anaconda3\\lib\\site-packages\\urllib3\\util\\connection.py in create_connection(address, timeout, source_address, socket_options)\n",
    "     82     if err is not None:\n",
    "---> 83         raise err\n",
    "     84 \n",
    "\n",
    "~\\Anaconda3\\lib\\site-packages\\urllib3\\util\\connection.py in create_connection(address, timeout, source_address, socket_options)\n",
    "     72                 sock.bind(source_address)\n",
    "---> 73             sock.connect(sa)\n",
    "     74             return sock\n",
    "\n",
    "TimeoutError: [WinError 10060] A connection attempt failed because the connected party did not properly respond after a period of time, or established connection failed because connected host has failed to respond\n",
    "\n",
    "During handling of the above exception, another exception occurred:\n",
    "\n",
    "NewConnectionError                        Traceback (most recent call last)\n",
    "~\\Anaconda3\\lib\\site-packages\\urllib3\\connectionpool.py in urlopen(self, method, url, body, headers, retries, redirect, assert_same_host, timeout, pool_timeout, release_conn, chunked, body_pos, **response_kw)\n",
    "    600                                                   body=body, headers=headers,\n",
    "--> 601                                                   chunked=chunked)\n",
    "    602 \n",
    "\n",
    "~\\Anaconda3\\lib\\site-packages\\urllib3\\connectionpool.py in _make_request(self, conn, method, url, timeout, chunked, **httplib_request_kw)\n",
    "    345         try:\n",
    "--> 346             self._validate_conn(conn)\n",
    "    347         except (SocketTimeout, BaseSSLError) as e:\n",
    "\n",
    "~\\Anaconda3\\lib\\site-packages\\urllib3\\connectionpool.py in _validate_conn(self, conn)\n",
    "    849         if not getattr(conn, 'sock', None):  # AppEngine might not have  `.sock`\n",
    "--> 850             conn.connect()\n",
    "    851 \n",
    "\n",
    "~\\Anaconda3\\lib\\site-packages\\urllib3\\connection.py in connect(self)\n",
    "    283         # Add certificate verification\n",
    "--> 284         conn = self._new_conn()\n",
    "    285 \n",
    "\n",
    "~\\Anaconda3\\lib\\site-packages\\urllib3\\connection.py in _new_conn(self)\n",
    "    149             raise NewConnectionError(\n",
    "--> 150                 self, \"Failed to establish a new connection: %s\" % e)\n",
    "    151 \n",
    "\n",
    "NewConnectionError: <urllib3.connection.VerifiedHTTPSConnection object at 0x000001A95C484E10>: Failed to establish a new connection: [WinError 10060] A connection attempt failed because the connected party did not properly respond after a period of time, or established connection failed because connected host has failed to respond\n",
    "\n",
    "During handling of the above exception, another exception occurred:\n",
    "\n",
    "MaxRetryError                             Traceback (most recent call last)\n",
    "~\\Anaconda3\\lib\\site-packages\\requests\\adapters.py in send(self, request, stream, timeout, verify, cert, proxies)\n",
    "    439                     retries=self.max_retries,\n",
    "--> 440                     timeout=timeout\n",
    "    441                 )\n",
    "\n",
    "~\\Anaconda3\\lib\\site-packages\\urllib3\\connectionpool.py in urlopen(self, method, url, body, headers, retries, redirect, assert_same_host, timeout, pool_timeout, release_conn, chunked, body_pos, **response_kw)\n",
    "    638             retries = retries.increment(method, url, error=e, _pool=self,\n",
    "--> 639                                         _stacktrace=sys.exc_info()[2])\n",
    "    640             retries.sleep()\n",
    "\n",
    "~\\Anaconda3\\lib\\site-packages\\urllib3\\util\\retry.py in increment(self, method, url, response, error, _pool, _stacktrace)\n",
    "    387         if new_retry.is_exhausted():\n",
    "--> 388             raise MaxRetryError(_pool, url, error or ResponseError(cause))\n",
    "    389 \n",
    "\n",
    "MaxRetryError: HTTPSConnectionPool(host='www.boardgamegeek.com', port=443): Max retries exceeded with url: /xmlapi2/thing?id=55175 (Caused by NewConnectionError('<urllib3.connection.VerifiedHTTPSConnection object at 0x000001A95C484E10>: Failed to establish a new connection: [WinError 10060] A connection attempt failed because the connected party did not properly respond after a period of time, or established connection failed because connected host has failed to respond',))\n",
    "\n",
    "During handling of the above exception, another exception occurred:\n",
    "\n",
    "ConnectionError                           Traceback (most recent call last)\n",
    "<ipython-input-38-bcbfb294685c> in <module>()\n",
    "      6         page_num = i\n",
    "      7         website = site+str(page_num)\n",
    "----> 8         response = requests.get(website)\n",
    "      9         tree = ET.fromstring(response.content)\n",
    "     10         #do this only for the ones that = 'boardgame'\n",
    "\n",
    "~\\Anaconda3\\lib\\site-packages\\requests\\api.py in get(url, params, **kwargs)\n",
    "     70 \n",
    "     71     kwargs.setdefault('allow_redirects', True)\n",
    "---> 72     return request('get', url, params=params, **kwargs)\n",
    "     73 \n",
    "     74 \n",
    "\n",
    "~\\Anaconda3\\lib\\site-packages\\requests\\api.py in request(method, url, **kwargs)\n",
    "     56     # cases, and look like a memory leak in others.\n",
    "     57     with sessions.Session() as session:\n",
    "---> 58         return session.request(method=method, url=url, **kwargs)\n",
    "     59 \n",
    "     60 \n",
    "\n",
    "~\\Anaconda3\\lib\\site-packages\\requests\\sessions.py in request(self, method, url, params, data, headers, cookies, files, auth, timeout, allow_redirects, proxies, hooks, stream, verify, cert, json)\n",
    "    506         }\n",
    "    507         send_kwargs.update(settings)\n",
    "--> 508         resp = self.send(prep, **send_kwargs)\n",
    "    509 \n",
    "    510         return resp\n",
    "\n",
    "~\\Anaconda3\\lib\\site-packages\\requests\\sessions.py in send(self, request, **kwargs)\n",
    "    616 \n",
    "    617         # Send the request\n",
    "--> 618         r = adapter.send(request, **kwargs)\n",
    "    619 \n",
    "    620         # Total elapsed time of the request (approximately)\n",
    "\n",
    "~\\Anaconda3\\lib\\site-packages\\requests\\adapters.py in send(self, request, stream, timeout, verify, cert, proxies)\n",
    "    506                 raise SSLError(e, request=request)\n",
    "    507 \n",
    "--> 508             raise ConnectionError(e, request=request)\n",
    "    509 \n",
    "    510         except ClosedPoolError as e:\n",
    "\n",
    "ConnectionError: HTTPSConnectionPool(host='www.boardgamegeek.com', port=443): \n",
    "        Max retries exceeded with url: /xmlapi2/thing?id=55175 (Caused by NewConnectionError('<urllib3.connection.VerifiedHTTPSConnection object at 0x000001A95C484E10>: Failed to establish a new connection: [WinError 10060] A connection attempt failed because the connected party did not properly respond after a period of time, or established connection failed because connected host has failed to respond',))\n"
   ]
  }
 ],
 "metadata": {
  "kernelspec": {
   "display_name": "Python 3",
   "language": "python",
   "name": "python3"
  },
  "language_info": {
   "codemirror_mode": {
    "name": "ipython",
    "version": 3
   },
   "file_extension": ".py",
   "mimetype": "text/x-python",
   "name": "python",
   "nbconvert_exporter": "python",
   "pygments_lexer": "ipython3",
   "version": "3.6.3"
  }
 },
 "nbformat": 4,
 "nbformat_minor": 2
}
