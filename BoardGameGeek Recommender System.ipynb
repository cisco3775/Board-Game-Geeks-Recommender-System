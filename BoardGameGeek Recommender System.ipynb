{
 "cells": [
  {
   "cell_type": "code",
   "execution_count": 1,
   "metadata": {
    "collapsed": true
   },
   "outputs": [],
   "source": [
    "import json\n",
    "import requests\n",
    "import time\n",
    "from xml.etree import ElementTree as ET"
   ]
  },
  {
   "cell_type": "code",
   "execution_count": 2,
   "metadata": {
    "collapsed": true
   },
   "outputs": [],
   "source": [
    "response = requests.get('https://www.boardgamegeek.com/xmlapi2/thing?id=13')\n",
    "tree = ET.fromstring(response.content)"
   ]
  },
  {
   "cell_type": "code",
   "execution_count": 3,
   "metadata": {
    "collapsed": true
   },
   "outputs": [],
   "source": [
    "# List of all the elements\n",
    "#[elem.tag for elem in tree.iter()]"
   ]
  },
  {
   "cell_type": "code",
   "execution_count": 4,
   "metadata": {
    "collapsed": true
   },
   "outputs": [],
   "source": [
    "# See the whole text in XML format\n",
    "#print(ET.tostring(tree, encoding='utf8').decode('utf8'))"
   ]
  },
  {
   "cell_type": "markdown",
   "metadata": {},
   "source": [
    "## Code to pull boardgame info"
   ]
  },
  {
   "cell_type": "code",
   "execution_count": 5,
   "metadata": {
    "collapsed": true
   },
   "outputs": [],
   "source": [
    "# Creating a function to get the boardgame data from each page\n",
    "\n",
    "def boardgame_info(tree):\n",
    "    \n",
    "    id_num = int(tree[0].attrib['id'])\n",
    "    boardgamecategory = []\n",
    "    boardgamemechanic = []\n",
    "    boardgamedesigner = []\n",
    "    \n",
    "    for i in range(len(tree[0])):\n",
    "        \n",
    "        if tree[0][i].tag == 'name':\n",
    "            if tree[0][i].attrib['type'] == 'primary':\n",
    "                boardgame_name = tree[0][i].attrib['value']\n",
    "                \n",
    "        elif tree[0][i].tag == 'yearpublished':\n",
    "            year_publ = int(tree[0][i].attrib['value'])\n",
    "            \n",
    "        elif tree[0][i].tag == 'minplayers':\n",
    "            minplayers = int(tree[0][i].attrib['value'])\n",
    "            \n",
    "        elif tree[0][i].tag == 'maxplayers':\n",
    "            maxplayers = int(tree[0][i].attrib['value'])   \n",
    "            \n",
    "        elif tree[0][i].tag == 'playingtime':\n",
    "            playingtime = int(tree[0][i].attrib['value']) \n",
    "            \n",
    "        elif tree[0][i].tag == 'minplaytime':\n",
    "            minplaytime = int(tree[0][i].attrib['value']) \n",
    "            \n",
    "        elif tree[0][i].tag == 'maxplaytime':\n",
    "            maxplaytime = int(tree[0][i].attrib['value'])\n",
    "            \n",
    "        elif tree[0][i].tag == 'link':\n",
    "            \n",
    "            if tree[0][i].attrib['type'] == 'boardgamecategory':\n",
    "                boardgamecategory.append(tree[0][i].attrib['value'])\n",
    "                \n",
    "            elif tree[0][i].attrib['type'] == 'boardgamemechanic':\n",
    "                boardgamemechanic.append(tree[0][i].attrib['value'])\n",
    "                \n",
    "            elif tree[0][i].attrib['type'] == 'boardgamedesigner':\n",
    "                boardgamedesigner.append(tree[0][i].attrib['value'])\n",
    "     \n",
    "    keys = ['game ID#', 'boardgame', 'year published', 'min players', 'max players', 'playing time', 'min playing time', 'max playing time', 'category', 'boardgame mechanic', 'boardgamedesigner']\n",
    "    values = [id_num, boardgame_name, year_publ, minplayers, maxplayers, playingtime, minplaytime, maxplaytime, boardgamecategory, boardgamemechanic, boardgamedesigner]\n",
    "    dictionary = dict(zip(keys, values))\n",
    "\n",
    "    return dictionary           "
   ]
  },
  {
   "cell_type": "markdown",
   "metadata": {},
   "source": [
    "## Code to pull boardgame ratings"
   ]
  },
  {
   "cell_type": "code",
   "execution_count": 6,
   "metadata": {
    "collapsed": true
   },
   "outputs": [],
   "source": [
    "ratings_response = requests.get('https://www.boardgamegeek.com/xmlapi2/thing?id=13&ratingcomments=1&page=1')\n",
    "ratings_tree = ET.fromstring(ratings_response.content)"
   ]
  },
  {
   "cell_type": "code",
   "execution_count": 7,
   "metadata": {
    "collapsed": true
   },
   "outputs": [],
   "source": [
    "# Creating a function to get the boardgame ratings\n",
    "\n",
    "def get_ratings_per_page(ratings_tree):\n",
    "        \n",
    "    # Figuring out the number of ratings pages\n",
    "    for i in range(len(ratings_tree[0])):\n",
    "        if ratings_tree[0][i].tag == 'comments':\n",
    "            ratings_info = i\n",
    "            num_ratings = float(ratings_tree[0][i].attrib['totalitems'])\n",
    "    #print(ratings_info)\n",
    "\n",
    "    all_local_ratings = []\n",
    "    for i in range(len(ratings_tree[0][ratings_info])):\n",
    "\n",
    "        username = ratings_tree[0][ratings_info][i].attrib['username']\n",
    "        rating = float(ratings_tree[0][ratings_info][i].attrib['rating'])     \n",
    "\n",
    "        ratings_keys = ['username', 'rating']\n",
    "        ratings_values = [username, rating]\n",
    "        ratings_dictionary = dict(zip(ratings_keys, ratings_values))\n",
    "        \n",
    "        all_local_ratings.append(ratings_dictionary)\n",
    "        \n",
    "        #print(ratings_dictionary)\n",
    "    return all_local_ratings"
   ]
  },
  {
   "cell_type": "code",
   "execution_count": 8,
   "metadata": {
    "collapsed": true
   },
   "outputs": [],
   "source": [
    "def get_all_ratings(ID):\n",
    "    \n",
    "    site = 'https://www.boardgamegeek.com/xmlapi2/thing?id='\n",
    "    page_num = ID   \n",
    "    ratings_site = '&ratingcomments=1&page='\n",
    "    ratings_page_num_1 = 1\n",
    "       \n",
    "    ratings_website = site + str(page_num) + ratings_site + str(ratings_page_num_1)\n",
    "    ratings_response = requests.get(ratings_website)\n",
    "    ratings_tree = ET.fromstring(ratings_response.content)\n",
    "        \n",
    "   \n",
    "    # Figuring out the number of ratings pages\n",
    "    for j in range(len(ratings_tree[0])):\n",
    "        if ratings_tree[0][j].tag == 'comments':\n",
    "            num_ratings = float(ratings_tree[0][j].attrib['totalitems'])\n",
    "    #print(num_ratings)\n",
    "    \n",
    "    num_pages = round(num_ratings/100)\n",
    "    if num_pages < num_ratings/100:\n",
    "        num_pages += 1\n",
    "    #print(num_pages)\n",
    "\n",
    "    all_ratings = []\n",
    "    for k in range(num_pages):\n",
    "        ratings_website2 = site + str(page_num) + ratings_site + str(k+1)\n",
    "        ratings_response2 = requests.get(ratings_website2)\n",
    "        ratings_tree2 = ET.fromstring(ratings_response2.content)\n",
    "        #print(k, ratings_website2)\n",
    "        all_ratings.append(get_ratings_per_page(ratings_tree2))\n",
    "        time.sleep(2)        \n",
    "    return all_ratings"
   ]
  },
  {
   "cell_type": "markdown",
   "metadata": {},
   "source": [
    "## Pulling all info and ratings of multiple games"
   ]
  },
  {
   "cell_type": "code",
   "execution_count": 9,
   "metadata": {
    "collapsed": true
   },
   "outputs": [],
   "source": [
    "def get_all_game_info(ID):\n",
    "    \n",
    "    # boardgame websites\n",
    "    site = 'https://www.boardgamegeek.com/xmlapi2/thing?id='\n",
    "    page_num = ID\n",
    "    website = site+str(page_num)        \n",
    "    response = requests.get(website)\n",
    "    tree = ET.fromstring(response.content)\n",
    "       \n",
    "    ratings_site = '&ratingcomments=1&page='\n",
    "    ratings_page_num_1 = 1\n",
    "       \n",
    "    ratings_website = site + str(page_num) + ratings_site + str(ratings_page_num_1)\n",
    "    ratings_response = requests.get(ratings_website)\n",
    "    ratings_tree = ET.fromstring(ratings_response.content) \n",
    "\n",
    "    bg_info = boardgame_info(tree)\n",
    "    bg_ratings = get_all_ratings(ID)\n",
    "    bg_info['ratings'] = bg_ratings\n",
    "    time.sleep(5)         \n",
    "\n",
    "    \n",
    "    return bg_info"
   ]
  },
  {
   "cell_type": "code",
   "execution_count": 11,
   "metadata": {},
   "outputs": [
    {
     "name": "stdout",
     "output_type": "stream",
     "text": [
      "1\n",
      "2\n"
     ]
    }
   ],
   "source": [
    "for ID in range(3):\n",
    "    site = 'https://www.boardgamegeek.com/xmlapi2/thing?id='\n",
    "    page_num = ID\n",
    "    website = site+str(page_num)        \n",
    "    response = requests.get(website)\n",
    "    tree = ET.fromstring(response.content)\n",
    "    \n",
    "    if len(tree) > 0 and tree[0].attrib['type'] == 'boardgame':\n",
    "        ind_bg = get_all_game_info(ID)\n",
    "        print(ID)\n",
    "        with open('ind_bg_{0}.json'.format(ID), 'w') as json_file:\n",
    "            json.dump('ind_bg_{0}.json'.format(ID), json_file)"
   ]
  },
  {
   "cell_type": "code",
   "execution_count": 12,
   "metadata": {
    "collapsed": true
   },
   "outputs": [],
   "source": [
    "with open('ind_bg_2.json') as f:\n",
    "    ind_bg_2 = json.load(f)"
   ]
  },
  {
   "cell_type": "code",
   "execution_count": 13,
   "metadata": {},
   "outputs": [
    {
     "name": "stdout",
     "output_type": "stream",
     "text": [
      "\"ind_bg_2.json\"\n"
     ]
    }
   ],
   "source": [
    "print(json.dumps(ind_bg_2, indent=4, sort_keys=False,  separators=(',', ': ')))"
   ]
  },
  {
   "cell_type": "code",
   "execution_count": null,
   "metadata": {
    "collapsed": true
   },
   "outputs": [],
   "source": []
  },
  {
   "cell_type": "code",
   "execution_count": null,
   "metadata": {
    "collapsed": true
   },
   "outputs": [],
   "source": []
  },
  {
   "cell_type": "code",
   "execution_count": null,
   "metadata": {
    "collapsed": true
   },
   "outputs": [],
   "source": []
  }
 ],
 "metadata": {
  "kernelspec": {
   "display_name": "Python 3",
   "language": "python",
   "name": "python3"
  },
  "language_info": {
   "codemirror_mode": {
    "name": "ipython",
    "version": 3
   },
   "file_extension": ".py",
   "mimetype": "text/x-python",
   "name": "python",
   "nbconvert_exporter": "python",
   "pygments_lexer": "ipython3",
   "version": "3.6.3"
  }
 },
 "nbformat": 4,
 "nbformat_minor": 2
}
