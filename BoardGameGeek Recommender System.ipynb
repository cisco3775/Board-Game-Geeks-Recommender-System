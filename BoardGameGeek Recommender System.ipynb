{
 "cells": [
  {
   "cell_type": "code",
   "execution_count": 1,
   "metadata": {},
   "outputs": [],
   "source": [
    "import json\n",
    "import matplotlib.pyplot as plt\n",
    "import numpy as np\n",
    "import os\n",
    "import pandas as pd\n",
    "import pylab \n",
    "import random\n",
    "import requests\n",
    "import scipy.stats as stats\n",
    "import seaborn as sb\n",
    "import time\n",
    "from xml.etree import ElementTree as ET"
   ]
  },
  {
   "cell_type": "markdown",
   "metadata": {},
   "source": [
    "## Code to pull boardgame info"
   ]
  },
  {
   "cell_type": "code",
   "execution_count": 3,
   "metadata": {
    "collapsed": true
   },
   "outputs": [],
   "source": [
    "# Creating a function to get the boardgame data from each page\n",
    "\n",
    "def boardgame_info(tree):\n",
    "    \n",
    "    id_num = int(tree[0].attrib['id'])\n",
    "    boardgamecategory = []\n",
    "    boardgamemechanic = []\n",
    "    boardgamedesigner = []\n",
    "    \n",
    "    for i in range(len(tree[0])):\n",
    "        \n",
    "        if tree[0][i].tag == 'name':\n",
    "            if tree[0][i].attrib['type'] == 'primary':\n",
    "                boardgame_name = tree[0][i].attrib['value']\n",
    "                \n",
    "        elif tree[0][i].tag == 'yearpublished':\n",
    "            year_publ = int(tree[0][i].attrib['value'])\n",
    "            \n",
    "        elif tree[0][i].tag == 'minplayers':\n",
    "            minplayers = int(tree[0][i].attrib['value'])\n",
    "            \n",
    "        elif tree[0][i].tag == 'maxplayers':\n",
    "            maxplayers = int(tree[0][i].attrib['value'])   \n",
    "            \n",
    "        elif tree[0][i].tag == 'playingtime':\n",
    "            playingtime = int(tree[0][i].attrib['value']) \n",
    "            \n",
    "        elif tree[0][i].tag == 'minplaytime':\n",
    "            minplaytime = int(tree[0][i].attrib['value']) \n",
    "            \n",
    "        elif tree[0][i].tag == 'maxplaytime':\n",
    "            maxplaytime = int(tree[0][i].attrib['value'])\n",
    "            \n",
    "        elif tree[0][i].tag == 'link':\n",
    "            \n",
    "            if tree[0][i].attrib['type'] == 'boardgamecategory':\n",
    "                boardgamecategory.append(tree[0][i].attrib['value'])\n",
    "                \n",
    "            elif tree[0][i].attrib['type'] == 'boardgamemechanic':\n",
    "                boardgamemechanic.append(tree[0][i].attrib['value'])\n",
    "                \n",
    "            elif tree[0][i].attrib['type'] == 'boardgamedesigner':\n",
    "                boardgamedesigner.append(tree[0][i].attrib['value'])\n",
    "     \n",
    "    keys = ['game ID#', 'boardgame', 'year published', 'min players', 'max players', 'playing time', 'min playing time', 'max playing time', 'category', 'boardgame mechanic', 'boardgamedesigner']\n",
    "    values = [id_num, boardgame_name, year_publ, minplayers, maxplayers, playingtime, minplaytime, maxplaytime, boardgamecategory, boardgamemechanic, boardgamedesigner]\n",
    "    dictionary = dict(zip(keys, values))\n",
    "\n",
    "    return dictionary           "
   ]
  },
  {
   "cell_type": "markdown",
   "metadata": {},
   "source": [
    "## Code to pull boardgame ratings"
   ]
  },
  {
   "cell_type": "code",
   "execution_count": 5,
   "metadata": {
    "collapsed": true
   },
   "outputs": [],
   "source": [
    "# Lines of code used for checking code:\n",
    "\n",
    "# ratings_response = requests.get('https://www.boardgamegeek.com/xmlapi2/thing?id=13&ratingcomments=1&page=1')\n",
    "# ratings_tree = ET.fromstring(ratings_response.content)"
   ]
  },
  {
   "cell_type": "code",
   "execution_count": 4,
   "metadata": {
    "collapsed": true
   },
   "outputs": [],
   "source": [
    "# Creating a function to get the boardgame ratings\n",
    "\n",
    "def get_ratings_per_page(ratings_tree):\n",
    "        \n",
    "    # Figuring out the number of ratings pages\n",
    "    for i in range(len(ratings_tree[0])):\n",
    "        if ratings_tree[0][i].tag == 'comments':\n",
    "            ratings_info = i\n",
    "            num_ratings = float(ratings_tree[0][i].attrib['totalitems'])\n",
    "    #print(ratings_info)\n",
    "\n",
    "    all_local_ratings = []\n",
    "    for i in range(len(ratings_tree[0][ratings_info])):\n",
    "\n",
    "        username = ratings_tree[0][ratings_info][i].attrib['username']\n",
    "        rating = float(ratings_tree[0][ratings_info][i].attrib['rating'])     \n",
    "\n",
    "        ratings_keys = ['username', 'rating']\n",
    "        ratings_values = [username, rating]\n",
    "        ratings_dictionary = dict(zip(ratings_keys, ratings_values))\n",
    "        \n",
    "        all_local_ratings.append(ratings_dictionary)\n",
    "        \n",
    "        #print(ratings_dictionary)\n",
    "    return all_local_ratings"
   ]
  },
  {
   "cell_type": "code",
   "execution_count": 6,
   "metadata": {
    "collapsed": true
   },
   "outputs": [],
   "source": [
    "def get_all_ratings(ID):\n",
    "    \n",
    "    site = 'https://www.boardgamegeek.com/xmlapi2/thing?id='\n",
    "    page_num = ID   \n",
    "    ratings_site = '&ratingcomments=1&page='\n",
    "    ratings_page_num_1 = 1\n",
    "       \n",
    "    ratings_website = site + str(page_num) + ratings_site + str(ratings_page_num_1)\n",
    "    ratings_response = requests.get(ratings_website)\n",
    "    ratings_tree = ET.fromstring(ratings_response.content)\n",
    "        \n",
    "   \n",
    "    # Figuring out the number of ratings pages\n",
    "    num_ratings = 0\n",
    "    for j in range(len(ratings_tree[0])):\n",
    "        if ratings_tree[0][j].tag == 'comments':\n",
    "            num_ratings = float(ratings_tree[0][j].attrib['totalitems'])\n",
    "    #print(num_ratings)\n",
    "    \n",
    "    num_pages = round(num_ratings/100)\n",
    "    if num_pages < num_ratings/100:\n",
    "        num_pages += 1\n",
    "    #print(num_pages)\n",
    "\n",
    "    all_ratings = []\n",
    "    for k in range(num_pages):\n",
    "        ratings_website2 = site + str(page_num) + ratings_site + str(k+1)\n",
    "        ratings_response2 = requests.get(ratings_website2)\n",
    "        ratings_tree2 = ET.fromstring(ratings_response2.content)\n",
    "        #print(k, ratings_website2)\n",
    "        all_ratings.append(get_ratings_per_page(ratings_tree2))\n",
    "        time.sleep(2)        \n",
    "    return all_ratings"
   ]
  },
  {
   "cell_type": "markdown",
   "metadata": {},
   "source": [
    "## Pulling all info and ratings of multiple games"
   ]
  },
  {
   "cell_type": "code",
   "execution_count": 7,
   "metadata": {
    "collapsed": true
   },
   "outputs": [],
   "source": [
    "def get_all_game_info(ID):\n",
    "    \n",
    "    # boardgame websites\n",
    "    site = 'https://www.boardgamegeek.com/xmlapi2/thing?id='\n",
    "    page_num = ID\n",
    "    website = site+str(page_num)        \n",
    "    response = requests.get(website)\n",
    "    tree = ET.fromstring(response.content)\n",
    "       \n",
    "    ratings_site = '&ratingcomments=1&page='\n",
    "    ratings_page_num_1 = 1\n",
    "       \n",
    "    ratings_website = site + str(page_num) + ratings_site + str(ratings_page_num_1)\n",
    "    ratings_response = requests.get(ratings_website)\n",
    "    ratings_tree = ET.fromstring(ratings_response.content) \n",
    "\n",
    "    bg_info = boardgame_info(tree)\n",
    "    bg_ratings = get_all_ratings(ID)\n",
    "    bg_info['ratings'] = bg_ratings\n",
    "    time.sleep(5)         \n",
    "\n",
    "    \n",
    "    return bg_info"
   ]
  },
  {
   "cell_type": "markdown",
   "metadata": {},
   "source": [
    "## Pulling all info from BoardGameGeek's API"
   ]
  },
  {
   "cell_type": "code",
   "execution_count": null,
   "metadata": {
    "collapsed": true
   },
   "outputs": [],
   "source": [
    "for ID in range(1,50001):\n",
    "    site = 'https://www.boardgamegeek.com/xmlapi2/thing?id='\n",
    "    page_num = ID\n",
    "    website = site+str(page_num)        \n",
    "    response = requests.get(website)\n",
    "    tree = ET.fromstring(response.content)\n",
    "\n",
    "    if len(tree) > 0 and tree[0].attrib['type'] == 'boardgame':\n",
    "        ind_bg = get_all_game_info(ID)\n",
    "        #print(ID)\n",
    "        with open('ind_bg_{0}.json'.format(ID), 'w') as json_file:\n",
    "            json.dump(ind_bg, json_file)\n",
    "    \n",
    "    time.sleep(5)"
   ]
  },
  {
   "cell_type": "code",
   "execution_count": 27,
   "metadata": {
    "collapsed": true
   },
   "outputs": [],
   "source": [
    "# updating the path\n",
    "path = 'C:/Users/Ariel/Desktop/BGG_JSON_files/'\n",
    "os.chdir(path)\n",
    "\n",
    "# Loop through all the json files in the forlder\n",
    "ind_bg = []\n",
    "for i in range(1,49984):\n",
    "    \n",
    "    if os.path.exists('ind_bg_{0}.json'.format(i)) == True:\n",
    "        \n",
    "        #open the file\n",
    "        with open('ind_bg_{0}.json'.format(i)) as f:\n",
    "          ind_bg_json = json.load(f)\n",
    "        #ind_bg = pd.DataFrame.from_dict(ind_bg_json, orient = 'index').T\n",
    "        ind_bg.append(ind_bg_json)"
   ]
  },
  {
   "cell_type": "code",
   "execution_count": null,
   "metadata": {
    "collapsed": true
   },
   "outputs": [],
   "source": [
    "# Path to save board_game_df.csv to \n",
    "path2 = 'C:/Users/Ariel/Desktop/01 DATA SCIENCE/Springboard/Capstone 1/'\n",
    "\n",
    "# saving as csv\n",
    "board_game_df.to_csv (path2+'board_game_df.csv', index = None, header=True) "
   ]
  },
  {
   "cell_type": "code",
   "execution_count": 2,
   "metadata": {
    "collapsed": true
   },
   "outputs": [],
   "source": [
    "# Updating the path to get board_game_df.csv\n",
    "file = 'C:/Users/Ariel/Desktop/01 DATA SCIENCE/Springboard/Capstone 1/'\n",
    "\n",
    "# Loading board_game_df.csv\n",
    "board_game_df = pd.read_csv(file+'board_game_df.csv', encoding = 'unicode_escape')"
   ]
  },
  {
   "cell_type": "markdown",
   "metadata": {},
   "source": [
    "## Creating the new columns for \"boardgame mechanic\" one-hot encoding"
   ]
  },
  {
   "cell_type": "code",
   "execution_count": 3,
   "metadata": {
    "collapsed": true
   },
   "outputs": [],
   "source": [
    "# convert board_game_df['boardgame mechanic'] into a list(replace characters with blank)\n",
    "# remove square braces, then split on commas (.split() to remove the commas)\n",
    "\n",
    "bg_mechanic_list = []\n",
    "bg_mechanic = set()\n",
    "for i in range(len(board_game_df)):     #len(board_game_df['boardgame mechanic'])):\n",
    "    bg_mechanic_list = board_game_df['boardgame mechanic'][i]\\\n",
    "                        .replace('[','')\\\n",
    "                        .replace(']','')\\\n",
    "                        .replace(\"'\", '')\\\n",
    "                        .split(',')\n",
    "    \n",
    "    for j in bg_mechanic_list:\n",
    "        element_string = j.strip()\n",
    "        if element_string != '':\n",
    "            bg_mechanic.add(element_string)"
   ]
  },
  {
   "cell_type": "code",
   "execution_count": 4,
   "metadata": {
    "collapsed": true
   },
   "outputs": [],
   "source": [
    "# saving the set as a list to create the individual columns\n",
    "unique_bg_mechanic_list = list(bg_mechanic)\n",
    "\n",
    "# Creating the columns for boardgame mechanic \n",
    "for i in range(len(unique_bg_mechanic_list)):\n",
    "    board_game_df['bg mechanic {0}'.format(unique_bg_mechanic_list[i])] = np.nan"
   ]
  },
  {
   "cell_type": "code",
   "execution_count": 7,
   "metadata": {
    "collapsed": true
   },
   "outputs": [],
   "source": [
    "# Filling in the boardgame mechanic columns using one-hot encoding\n",
    "for i in range(len(board_game_df)):\n",
    "    for j in range(len(unique_bg_mechanic_list)):\n",
    "        if unique_bg_mechanic_list[j] in board_game_df['boardgame mechanic'][i]:\n",
    "            board_game_df.loc[i, 'bg mechanic '+str(unique_bg_mechanic_list[j])] = 1\n",
    "        else:\n",
    "            board_game_df.loc[i,'bg mechanic '+str(unique_bg_mechanic_list[j])] = 0"
   ]
  },
  {
   "cell_type": "markdown",
   "metadata": {},
   "source": [
    "## Creating the new columns for \"category\" one-hot encoding"
   ]
  },
  {
   "cell_type": "code",
   "execution_count": 12,
   "metadata": {
    "collapsed": true
   },
   "outputs": [],
   "source": [
    "# convert board_game_df['category'] into a list(replace characters with blank)\n",
    "# remove square braces, then split on commas (.split() to remove the commas)\n",
    "\n",
    "bg_category_list = []\n",
    "bg_category = set()\n",
    "for i in range(len(board_game_df)):     #len(board_game_df['boardgame mechanic'])):\n",
    "    bg_category_list = board_game_df['category'][i]\\\n",
    "                        .replace('[','')\\\n",
    "                        .replace(']','')\\\n",
    "                        .replace(\"'\", '')\\\n",
    "                        .replace('\"', '')\\\n",
    "                        .split(',')\n",
    "    \n",
    "    for j in bg_category_list:\n",
    "        element_string = j.strip()\n",
    "        if element_string != '':\n",
    "            bg_category.add(element_string)"
   ]
  },
  {
   "cell_type": "code",
   "execution_count": 15,
   "metadata": {
    "collapsed": true
   },
   "outputs": [],
   "source": [
    "# saving the set as a list to create the individual columns\n",
    "unique_bg_category_list = list(bg_category)\n",
    "\n",
    "# Creating the columns for categories \n",
    "for i in range(len(unique_bg_category_list)):\n",
    "    board_game_df['bg category {0}'.format(unique_bg_category_list[i])] = np.nan"
   ]
  },
  {
   "cell_type": "code",
   "execution_count": 18,
   "metadata": {
    "collapsed": true
   },
   "outputs": [],
   "source": [
    "# Filling in the category columns using one-hot encoding\n",
    "for i in range(len(board_game_df)):\n",
    "    \n",
    "    for j in range(len(unique_bg_category_list)):\n",
    "        \n",
    "        if unique_bg_category_list[j] in board_game_df['category'][i]:\n",
    "            board_game_df.loc[i, 'bg category '+str(unique_bg_category_list[j])] = 1\n",
    "            \n",
    "        else:\n",
    "            board_game_df.loc[i,'bg category '+str(unique_bg_category_list[j])] = 0"
   ]
  },
  {
   "cell_type": "markdown",
   "metadata": {},
   "source": [
    "## Creating the new columns for average ratings and the number of ratings per game"
   ]
  },
  {
   "cell_type": "code",
   "execution_count": 26,
   "metadata": {
    "collapsed": true,
    "scrolled": true
   },
   "outputs": [],
   "source": [
    "# Function to create/calculate each boardgame's average rating\n",
    "def ratings_stats(var1):\n",
    "    # Converting the ratings column from a string to a list of dictionaries\n",
    "    ratings = json.loads(var1.replace(\"'\", \"\\\"\"))\n",
    "    \n",
    "    # Calculating the average rating per game\n",
    "    sum_ratings = 0\n",
    "    count_ratings = 0\n",
    "    for i in range(len(ratings)):\n",
    "        for j in range(len(ratings[i])):\n",
    "            sum_ratings += ratings[i][j]['rating']\n",
    "            count_ratings += 1\n",
    "            \n",
    "    if count_ratings != 0:\n",
    "        avg_ratings = sum_ratings/count_ratings\n",
    "    else:\n",
    "        avg_ratings = 0     \n",
    "            \n",
    "    return \"{:.2f}\".format(avg_ratings) \n",
    "\n",
    "# Using map() to call the 'ratings_star' function and create the average rating column\n",
    "board_game_df['average rating'] = board_game_df['ratings'].map(ratings_stats)"
   ]
  },
  {
   "cell_type": "code",
   "execution_count": 27,
   "metadata": {
    "collapsed": true
   },
   "outputs": [],
   "source": [
    "# Function to create/calculate each boardgame's total number of ratings\n",
    "def num_ratings(var1):\n",
    "    # Converting the ratings column from a string to a list of dictionaries\n",
    "    ratings = json.loads(var1.replace(\"'\", \"\\\"\"))\n",
    "    \n",
    "    # Calculating the total number of ratings per game\n",
    "    count_ratings = 0\n",
    "    for i in range(len(ratings)):\n",
    "        for j in range(len(ratings[i])):\n",
    "            count_ratings += 1\n",
    "            \n",
    "    return count_ratings\n",
    "\n",
    "# Using map() to call the 'num_ratings' function and create the number of ratings column\n",
    "board_game_df['number of ratings'] = board_game_df['ratings'].map(num_ratings)"
   ]
  },
  {
   "cell_type": "markdown",
   "metadata": {},
   "source": [
    "Saving board_game_df with the new columns"
   ]
  },
  {
   "cell_type": "code",
   "execution_count": 31,
   "metadata": {
    "collapsed": true
   },
   "outputs": [],
   "source": [
    "# Path to save board_game_df.csv to \n",
    "path2 = 'C:/Users/Ariel/Desktop/01 DATA SCIENCE/Springboard/Capstone 1/'\n",
    "\n",
    "# saving as csv\n",
    "board_game_df.to_csv (path2+'board_game_df2.csv', index = None, header=True) "
   ]
  },
  {
   "cell_type": "markdown",
   "metadata": {
    "collapsed": true
   },
   "source": [
    "# Data Storytelling & EDA"
   ]
  },
  {
   "cell_type": "code",
   "execution_count": 2,
   "metadata": {},
   "outputs": [],
   "source": [
    "# Updating the path to get board_game_df.csv\n",
    "file = 'C:/Users/Ariel/Desktop/01 DATA SCIENCE/Springboard/Capstone 1/'\n",
    "\n",
    "# Loading board_game_df.csv\n",
    "board_game_df = pd.read_csv(file+'board_game_df2.csv', encoding = 'unicode_escape')"
   ]
  },
  {
   "cell_type": "code",
   "execution_count": 3,
   "metadata": {},
   "outputs": [],
   "source": [
    "# Converting the \"average rating\" column from string to float\n",
    "board_game_df['average rating'] = board_game_df['average rating'].astype(float)"
   ]
  },
  {
   "cell_type": "code",
   "execution_count": 4,
   "metadata": {},
   "outputs": [
    {
     "name": "stdout",
     "output_type": "stream",
     "text": [
      "Number of board games with no ratings: 7206\n"
     ]
    }
   ],
   "source": [
    "# Number of board games with zero ratings. \n",
    "print('Number of board games with no ratings:', (board_game_df['average rating'] == 0).sum())"
   ]
  },
  {
   "cell_type": "code",
   "execution_count": 5,
   "metadata": {},
   "outputs": [
    {
     "name": "stdout",
     "output_type": "stream",
     "text": [
      "Board games with 0 ratings: 7206 , 19.10 percent of the data\n",
      "Board games with less than 2 ratings: 11792 , 31.25 percent of the data\n",
      "Board games with less than 3 ratings: 15097 , 40.01 percent of the data\n",
      "Board games with less than 4 ratings: 17427 , 46.19 percent of the data\n",
      "Board games with less than 5 ratings: 19130 , 50.70 percent of the data\n",
      "Board games with less than 10 ratings: 23731 , 62.90 percent of the data\n",
      "Board games with less than 20 ratings: 27220 , 72.14 percent of the data\n",
      "Board games with less than 30 ratings: 28890 , 76.57 percent of the data\n",
      "Board games with less than 50 ratings: 30800 , 81.63 percent of the data\n",
      "Board games with less than 100 ratings: 32978 , 87.41 percent of the data\n"
     ]
    }
   ],
   "source": [
    "num_of_ratings = [1,2,3,4,5,10,20,30,50,100]\n",
    "\n",
    "for i in range(len(num_of_ratings)):\n",
    "    \n",
    "    count = 0\n",
    "    for j in range(len(board_game_df)):\n",
    "        \n",
    "        if board_game_df['number of ratings'][j] < num_of_ratings[i]:\n",
    "            count += 1\n",
    "            \n",
    "    if i == 0:\n",
    "        print('Board games with', num_of_ratings[i]-1,'ratings:', count,',', \"{:.2f}\".format((count/37730)* 100),\\\n",
    "              'percent of the data')\n",
    "    else:\n",
    "        print('Board games with less than', num_of_ratings[i],'ratings:', count,',', \"{:.2f}\".format((count/37730)* 100),\\\n",
    "              'percent of the data')"
   ]
  },
  {
   "cell_type": "markdown",
   "metadata": {},
   "source": [
    "There are 7,206 board games that have no ratings at all. This is almost 20% of the data. These games will be removed when calculating the mean and median. "
   ]
  },
  {
   "cell_type": "code",
   "execution_count": 7,
   "metadata": {},
   "outputs": [],
   "source": [
    "# Removing board games with zero ratings so they don't skew the mean of rated games\n",
    "board_game_df_AvgRating_NonZero = board_game_df[board_game_df['average rating'] > 0]\n",
    "\n",
    "# Removing board games that have less than 5 ratings\n",
    "board_game_df_NumRatings_5 = board_game_df[board_game_df['number of ratings'] > 4]\n",
    "\n",
    "# Removing board games that have less than 10 ratings\n",
    "board_game_df_NumRatings_10 = board_game_df[board_game_df['number of ratings'] > 9]\n",
    "\n",
    "# Removing board games that have less than 30 ratings\n",
    "board_game_df_NumRatings_30 = board_game_df[board_game_df['number of ratings'] > 29]\n"
   ]
  },
  {
   "cell_type": "code",
   "execution_count": 8,
   "metadata": {},
   "outputs": [
    {
     "name": "stdout",
     "output_type": "stream",
     "text": [
      "Board games with 1 or more ratings:\n",
      "Mean average-ratings: 5.455\n",
      "Median average-ratings: 5.61\n",
      "Mean number of ratings: 223.182\n",
      "Median number of ratings: 8.0\n",
      "\n",
      "\n",
      "Board games with less than 5 ratings:\n",
      "Mean average-ratings: 5.742\n",
      "Median average-ratings: 5.82\n",
      "Mean number of ratings: 364.914\n",
      "Median number of ratings: 26.0\n",
      "\n",
      "\n",
      "Board games with less than 10 ratings:\n",
      "Mean average-ratings: 5.873\n",
      "Median average-ratings: 5.93\n",
      "Mean number of ratings: 482.67\n",
      "Median number of ratings: 48.0\n",
      "\n",
      "\n",
      "Board games with less than 30 ratings:\n",
      "Mean average-ratings: 6.068\n",
      "Median average-ratings: 6.11\n",
      "Mean number of ratings: 754.42\n",
      "Median number of ratings: 113.0\n",
      "\n",
      "\n"
     ]
    }
   ],
   "source": [
    "def means_medians(df):\n",
    "    print('Mean average-ratings:', float(\"{:.3f}\".format(df['average rating'].mean())))\n",
    "    print('Median average-ratings:', float(\"{:.3f}\".format(df['average rating'].median())))\n",
    "    print('Mean number of ratings:', float(\"{:.3f}\".format(df['number of ratings'].mean())))\n",
    "    print('Median number of ratings:', float(\"{:.3f}\".format(df['number of ratings'].median())))\n",
    "    print('\\n')\n",
    "\n",
    "print('Board games with 1 or more ratings:')\n",
    "means_medians(board_game_df_AvgRating_NonZero)\n",
    "\n",
    "print('Board games with less than 5 ratings:')\n",
    "means_medians(board_game_df_NumRatings_5)\n",
    "\n",
    "print('Board games with less than 10 ratings:')\n",
    "means_medians(board_game_df_NumRatings_10)\n",
    "\n",
    "print('Board games with less than 30 ratings:')\n",
    "means_medians(board_game_df_NumRatings_30)\n"
   ]
  },
  {
   "cell_type": "markdown",
   "metadata": {},
   "source": [
    "Much of the data is unrated and 62.9% of the data has only ten ratings or less. A board game's average rating based on a low amount of ratings isn't very convincing. Therefore, this analysis will use a conservative approach and say that games must have at least 30 ratings to trust it's average score. This leaves 23.43% of the data. It can be said that this dataset would reasonably reflect the games with fewer ratings."
   ]
  },
  {
   "cell_type": "code",
   "execution_count": 9,
   "metadata": {},
   "outputs": [],
   "source": [
    "# Resetting the index\n",
    "board_game_df_NumRatings_30 = board_game_df_NumRatings_30.reset_index()"
   ]
  },
  {
   "cell_type": "code",
   "execution_count": 10,
   "metadata": {},
   "outputs": [],
   "source": [
    "# Dropping column with the user/rating dictionary\n",
    "board_game_df_NumRatings_30_adj = board_game_df_NumRatings_30.drop(['ratings'], axis=1)"
   ]
  },
  {
   "cell_type": "code",
   "execution_count": 11,
   "metadata": {},
   "outputs": [
    {
     "data": {
      "image/png": "[encoded data removed]",
      "text/plain": [
       "<matplotlib.figure.Figure at 0x1bc313d2898>"
      ]
     },
     "metadata": {
      "needs_background": "light"
     },
     "output_type": "display_data"
    },
    {
     "data": {
      "image/png": "[encoded data removed]",
      "text/plain": [
       "<matplotlib.figure.Figure at 0x1bc189b8fd0>"
      ]
     },
     "metadata": {
      "needs_background": "light"
     },
     "output_type": "display_data"
    },
    {
     "data": {
      "image/png": "[encoded data removed]",
      "text/plain": [
       "<matplotlib.figure.Figure at 0x1bc1a80c550>"
      ]
     },
     "metadata": {
      "needs_background": "light"
     },
     "output_type": "display_data"
    }
   ],
   "source": [
    "y = np.array(board_game_df_NumRatings_30['average rating'])\n",
    "x = np.array(board_game_df_NumRatings_30['number of ratings'])\n",
    "\n",
    "# boxplot\n",
    "plt.boxplot(y)\n",
    "plt.title('Average Rating - Box Plot')\n",
    "plt.ylabel('Average Rating')\n",
    "plt.show()\n",
    "\n",
    "# histogram\n",
    "plt.hist(y, normed=True, bins = 50)\n",
    "plt.title('Average Rating - Histogram')\n",
    "plt.xlabel('Average Rating')\n",
    "plt.ylabel('Frequency')\n",
    "plt.show()\n",
    "\n",
    "# qq-plot\n",
    "stats.probplot(y, dist=\"norm\", plot=pylab)\n",
    "plt.title('Average Rating - QQ Plot')\n",
    "plt.ylabel('Average Rating')\n",
    "pylab.show()"
   ]
  },
  {
   "cell_type": "markdown",
   "metadata": {},
   "source": [
    "The average rating box plot shows that most of the average ratings users gave the games are between 3.5 and 8. Outside these bounds there are manyoutliers, however, the majority of the games are rated within this range.\n",
    "\n",
    "The data is fairly normally distributed as can be seen by the histogram and the QQ plot. However, the histogram shows that the data is slightly left skewed. "
   ]
  },
  {
   "cell_type": "code",
   "execution_count": 12,
   "metadata": {},
   "outputs": [
    {
     "data": {
      "image/png": "[encoded data removed]",
      "text/plain": [
       "<matplotlib.figure.Figure at 0x1bc12b2c9b0>"
      ]
     },
     "metadata": {
      "needs_background": "light"
     },
     "output_type": "display_data"
    }
   ],
   "source": [
    "y1 = np.array(board_game_df['number of ratings'])\n",
    "\n",
    "# scatter plot\n",
    "plt.plot(y1, marker='.', linestyle='none')\n",
    "plt.title('Number of Ratings - Scatter Plot')\n",
    "plt.xlabel('Boardgame')\n",
    "plt.ylabel('Number of Ratings')\n",
    "plt.show()"
   ]
  },
  {
   "cell_type": "markdown",
   "metadata": {},
   "source": [
    "A scatter plot of the number or ratings shows that there are some games that have a huge amount of ratings. However, most games have very few, as can be seen by the clustering at the bottom of the graph"
   ]
  },
  {
   "cell_type": "code",
   "execution_count": 13,
   "metadata": {},
   "outputs": [],
   "source": [
    "df_sb = pd.DataFrame(y,x)"
   ]
  },
  {
   "cell_type": "code",
   "execution_count": 14,
   "metadata": {},
   "outputs": [
    {
     "data": {
      "image/png": "[encoded data removed]",
      "text/plain": [
       "<matplotlib.figure.Figure at 0x1bc1a965320>"
      ]
     },
     "metadata": {
      "needs_background": "light"
     },
     "output_type": "display_data"
    }
   ],
   "source": [
    "g = sb.jointplot(x=x, y=y, data= df_sb)\n",
    "g = g.plot_joint(plt.scatter, color=\"r\", s=40, edgecolor=\"white\")\n",
    "g = g.plot_marginals(sb.distplot, kde=False, color=\"b\")\n",
    "g = g.annotate(stats.pearsonr)\n",
    "plt.show()"
   ]
  },
  {
   "cell_type": "markdown",
   "metadata": {},
   "source": [
    "The joint plot above shows a combination of a Number of Ratings vs. Average Ratings scatter plot, a histogram of the average ratings, and a bar graph of the number of ratings. \n",
    "\n",
    "The scatter plot shows the number of ratings vs the average rating of a board game. The plot shows that games with a higher number of ratings tend to recieve a higher average rating. A correlation test between the two variables is seen shown as r = .18 with a p-value of zero. \n",
    "\n",
    "The histogram on the right demonstrates that the averge average-rating is around 6. The Bar graph on top illustrates that a vast majority of the board games have few ratings. "
   ]
  },
  {
   "cell_type": "code",
   "execution_count": 15,
   "metadata": {},
   "outputs": [
    {
     "name": "stdout",
     "output_type": "stream",
     "text": [
      "Correlation between a boardgame's average rating and its number of ratings: 0.182\n"
     ]
    }
   ],
   "source": [
    "print(\"Correlation between a boardgame's average rating and its number of ratings:\",\\\n",
    "      \"{:.3f}\".format(board_game_df_NumRatings_30['average rating']\\\n",
    "                      .corr(board_game_df_NumRatings_30['number of ratings'])))"
   ]
  },
  {
   "cell_type": "code",
   "execution_count": 16,
   "metadata": {},
   "outputs": [
    {
     "name": "stdout",
     "output_type": "stream",
     "text": [
      "Correlation between a boardgame's average rating and its number of ratings: 0.105\n"
     ]
    }
   ],
   "source": [
    "print(\"Correlation between a boardgame's average rating and its number of ratings:\",\\\n",
    "      \"{:.3f}\".format(board_game_df['average rating']\\\n",
    "                      .corr(board_game_df['number of ratings'])))"
   ]
  },
  {
   "cell_type": "markdown",
   "metadata": {},
   "source": [
    "The correlation between the two variables when taking into account games with at least 30 ratings shows that the positive correlation of .182.The joint plot above gives a p-value of zero, meaning the correlation coefficient is statistically significant.\n",
    "\n",
    "The correlation between the two variables without taking into account the number of ratings decreases slightly to .105. The scatter plot from earlier also shows that there is a correlation between the two. "
   ]
  },
  {
   "cell_type": "code",
   "execution_count": 17,
   "metadata": {},
   "outputs": [
    {
     "data": {
      "text/plain": [
       "6422                            RPGQuest: Greek Mythology\n",
       "8430                 The Battle of Fontenoy: 11 May, 1745\n",
       "6146                                             RPGQuest\n",
       "6048                                     Connection Games\n",
       "8431                            Prague: The Empty Triumph\n",
       "3303                  Sports Action Canadian Pro Football\n",
       "7656    Crusade and Revolution: The Spanish Civil War,...\n",
       "7776                         Axis Empires: Totaler Krieg!\n",
       "4113                                    1844: Switzerland\n",
       "5272                                    Twilight Struggle\n",
       "6135                       The Penguin Book of Card Games\n",
       "8058                                    Where Eagles Dare\n",
       "7156                        RPGQuest: Oriental Adventures\n",
       "7818                                   Funkenschlag: EnBW\n",
       "7469                                 D-Day at Omaha Beach\n",
       "5246                                                 DAK2\n",
       "7436                                            Case Blue\n",
       "5256                                             Manassas\n",
       "5727                                International Cricket\n",
       "6647                                      Face To The Mat\n",
       "Name: boardgame, dtype: object"
      ]
     },
     "execution_count": 17,
     "metadata": {},
     "output_type": "execute_result"
    }
   ],
   "source": [
    "# Top 20 rated games\n",
    "board_game_df_NumRatings_30.sort_values('average rating', ascending=False)[0:20].boardgame"
   ]
  },
  {
   "cell_type": "markdown",
   "metadata": {},
   "source": [
    "These are the games with the highest average rating. "
   ]
  },
  {
   "cell_type": "code",
   "execution_count": 18,
   "metadata": {},
   "outputs": [
    {
     "data": {
      "text/plain": [
       "12                       Catan\n",
       "669                Carcassonne\n",
       "7539                  Pandemic\n",
       "8043                  Dominion\n",
       "4569            Ticket to Ride\n",
       "7592                  Agricola\n",
       "2099               Puerto Rico\n",
       "8510               Small World\n",
       "1849                Power Grid\n",
       "5685    Ticket to Ride: Europe\n",
       "409                   Citadels\n",
       "8422                     Dixit\n",
       "7341       Race for the Galaxy\n",
       "7923                 Stone Age\n",
       "1379                  Munchkin\n",
       "5272         Twilight Struggle\n",
       "5815             Arkham Horror\n",
       "10                    Bohnanza\n",
       "47                 Lost Cities\n",
       "8569            The Resistance\n",
       "Name: boardgame, dtype: object"
      ]
     },
     "execution_count": 18,
     "metadata": {},
     "output_type": "execute_result"
    }
   ],
   "source": [
    "# Top 20 games witht the most ratings\n",
    "board_game_df_NumRatings_30.sort_values('number of ratings', ascending=False)[0:20].boardgame"
   ]
  },
  {
   "cell_type": "markdown",
   "metadata": {},
   "source": [
    "These are the games with the highest amount of ratings."
   ]
  },
  {
   "cell_type": "code",
   "execution_count": 21,
   "metadata": {},
   "outputs": [
    {
     "name": "stdout",
     "output_type": "stream",
     "text": [
      "Correlation between a boardgame's average rating and bg mechanic Route/Network Building = 0.121\n",
      "Correlation between a boardgame's average rating and bg mechanic Set Collection = -0.102\n",
      "Correlation between a boardgame's average rating and bg mechanic Campaign / Battle Card Driven = 0.105\n",
      "Correlation between a boardgame's average rating and bg mechanic Chit-Pull System = 0.100\n",
      "Correlation between a boardgame's average rating and bg mechanic Hex-and-Counter = 0.278\n",
      "Correlation between a boardgame's average rating and bg mechanic Area Control / Area Influence = 0.113\n",
      "Correlation between a boardgame's average rating and bg mechanic Roll / Spin and Move = -0.279\n",
      "Correlation between a boardgame's average rating and bg mechanic Dice Rolling = 0.159\n",
      "Correlation between a boardgame's average rating and bg mechanic Simulation = 0.228\n",
      "Correlation between a boardgame's average rating and bg category World War II = 0.215\n",
      "Correlation between a boardgame's average rating and bg category Action / Dexterity = -0.104\n",
      "Correlation between a boardgame's average rating and bg category Civil War = 0.108\n",
      "Correlation between a boardgame's average rating and bg category Movies / TV / Radio theme = -0.181\n",
      "Correlation between a boardgame's average rating and bg category Napoleonic = 0.133\n",
      "Correlation between a boardgame's average rating and bg category Wargame = 0.367\n",
      "Correlation between a boardgame's average rating and bg category Party Game = -0.123\n",
      "Correlation between a boardgame's average rating and bg category Miniatures = 0.148\n",
      "Correlation between a boardgame's average rating and bg category World War I = 0.239\n",
      "Correlation between a boardgame's average rating and bg category Trivia = -0.160\n",
      "Correlation between a boardgame's average rating and bg category Card Game = -0.115\n"
     ]
    }
   ],
   "source": [
    "# Looking for attributes that have a correlation of (+/-) .1 or more with average rating \n",
    "\n",
    "for col in range(6, 148): \n",
    "    if (board_game_df_NumRatings_30_adj['average rating']\\\n",
    "                                      .corr(board_game_df_NumRatings_30_adj[board_game_df_NumRatings_30_adj.columns[col]])) >=.1:\n",
    "        print(\"Correlation between a boardgame's average rating and\",board_game_df_NumRatings_30_adj.columns[col],'=',\\\n",
    "                \"{:.3f}\".format(board_game_df_NumRatings_30_adj['average rating']\\\n",
    "                                .corr(board_game_df_NumRatings_30_adj[board_game_df_NumRatings_30_adj.columns[col]])))\n",
    "            \n",
    "    elif (board_game_df_NumRatings_30_adj['average rating']\\\n",
    "                                      .corr(board_game_df_NumRatings_30_adj[board_game_df_NumRatings_30_adj.columns[col]])) <=-.1:\n",
    "        print(\"Correlation between a boardgame's average rating and\",board_game_df_NumRatings_30_adj.columns[col],'=',\\\n",
    "                \"{:.3f}\".format(board_game_df_NumRatings_30_adj['average rating']\\\n",
    "                                .corr(board_game_df_NumRatings_30_adj[board_game_df_NumRatings_30_adj.columns[col]])))"
   ]
  },
  {
   "cell_type": "markdown",
   "metadata": {},
   "source": [
    "The list above is all the attributes that have a positive or negative correlation stronger than .1. From the above list it can be seen that there is a high, positive correlation between wargames, World War I, and World War II games. There is a strong, negative correlation between a roll-spin-move game and that game's average rating. Hex-and-counter games, on the other hand, have a strong positive correlation. "
   ]
  },
  {
   "cell_type": "markdown",
   "metadata": {},
   "source": [
    "### Hypothesis test: \n",
    "\n",
    "ttest for the categorical wargames vs. non-wargames and see if the diff in\n",
    "avg rating is significant. \n"
   ]
  },
  {
   "cell_type": "code",
   "execution_count": 23,
   "metadata": {},
   "outputs": [],
   "source": [
    "wargame_categ = []\n",
    "non_wargame_categ = []\n",
    "for i in range(len(board_game_df_NumRatings_30_adj)):\n",
    "    if board_game_df_NumRatings_30_adj['bg category Wargame'].iloc[i] == 1.0: \n",
    "        wargame_categ.append(board_game_df_NumRatings_30_adj.iloc[i])\n",
    "    else:\n",
    "        non_wargame_categ.append(board_game_df_NumRatings_30_adj.iloc[i])    "
   ]
  },
  {
   "cell_type": "code",
   "execution_count": 24,
   "metadata": {},
   "outputs": [
    {
     "name": "stdout",
     "output_type": "stream",
     "text": [
      "Games in the \"wargame\" category: 2412\n",
      "Games NOT in the \"wargame\" category: 6428\n"
     ]
    }
   ],
   "source": [
    "print('Games in the \"wargame\" category:',len(wargame_categ))\n",
    "print('Games NOT in the \"wargame\" category:',len(non_wargame_categ))"
   ]
  },
  {
   "cell_type": "code",
   "execution_count": 25,
   "metadata": {},
   "outputs": [],
   "source": [
    "wargame_categ = pd.DataFrame(wargame_categ)\n",
    "non_wargame_categ = pd.DataFrame(non_wargame_categ)"
   ]
  },
  {
   "cell_type": "code",
   "execution_count": 26,
   "metadata": {},
   "outputs": [
    {
     "name": "stdout",
     "output_type": "stream",
     "text": [
      "6.601289386401327\n",
      "5.867285314250167\n",
      "0.5666827073002869\n",
      "0.7310205862995794\n"
     ]
    }
   ],
   "source": [
    "mean_wargame = np.mean(wargame_categ['average rating'])\n",
    "mean_non_wargame = np.mean(non_wargame_categ['average rating'])\n",
    "var_wargame = np.var(wargame_categ['average rating'])\n",
    "var_non_wargame = np.var(non_wargame_categ['average rating'])\n",
    "\n",
    "print(mean_wargame)\n",
    "print(mean_non_wargame)\n",
    "print(var_wargame)\n",
    "print(var_non_wargame)"
   ]
  },
  {
   "cell_type": "code",
   "execution_count": 27,
   "metadata": {},
   "outputs": [],
   "source": [
    "avg_wargame = wargame_categ['average rating']\n",
    "avg_non_wargame = non_wargame_categ['average rating'] "
   ]
  },
  {
   "cell_type": "markdown",
   "metadata": {},
   "source": [
    "Null-Hypothesis: The mean of the average ratings of board games in the wargame category is equal to that of the non-wargame category \n",
    "\n",
    "Alt-Hypothesis: The mean of the two categories are not equal \n",
    "\n",
    "alpha= .05"
   ]
  },
  {
   "cell_type": "code",
   "execution_count": 28,
   "metadata": {},
   "outputs": [
    {
     "name": "stdout",
     "output_type": "stream",
     "text": [
      "t-statistic: 39.30257791643692\n",
      "p-value: 8.888467411304554e-294\n"
     ]
    }
   ],
   "source": [
    "# two-sample t-test with unequal variances\n",
    "two_sample_ttest = stats.ttest_ind(avg_wargame, avg_non_wargame, equal_var=False)\n",
    "print('t-statistic:', two_sample_ttest[0])\n",
    "print('p-value:', two_sample_ttest[1])"
   ]
  },
  {
   "cell_type": "markdown",
   "metadata": {},
   "source": [
    "The p-value of the two-sample t-test was far below .05 in the Frequentist Approach. Hence, we reject the null hypothesis that the mean of the mean of the average ratings of board games in the wargame category is equal to that of the non-wargame category. There is evidence to suggest that board games in the wargame category do indeed receive higher average ratings than board games that are not in the wargame category."
   ]
  },
  {
   "cell_type": "markdown",
   "metadata": {
    "collapsed": true
   },
   "source": [
    "# Collaborative Filtering"
   ]
  },
  {
   "cell_type": "markdown",
   "metadata": {},
   "source": [
    "### Adding the game_ID to the dictionary of username/rating"
   ]
  },
  {
   "cell_type": "code",
   "execution_count": 29,
   "metadata": {},
   "outputs": [],
   "source": [
    "complete_ratings_list = []\n",
    "for i in range(len(board_game_df_NumRatings_30)):\n",
    "    \n",
    "    # Testing on the first row of rating column\n",
    "    x_bg = board_game_df_NumRatings_30['ratings'].iloc[i]\n",
    "    name_bg = board_game_df_NumRatings_30['game ID#'].iloc[i]\n",
    "    \n",
    "    # Convert to list of list of dictionaries with json\n",
    "    x_bg_json = json.loads(x_bg.replace(\"'\", \"\\\"\"))\n",
    "    \n",
    "    # Flatten the 49 pages into one using a list comprehension\n",
    "    x_bg_ratings = [rating for page in x_bg_json for rating in page]\n",
    "    \n",
    "    # Go through x_bg_ratings and add the game_ID using a list comprehension\n",
    "    complete_ratings_list.append([{'rating': x['rating'],'username': x['username'], 'game_ID': name_bg} for x in x_bg_ratings])\n",
    "    \n",
    "    "
   ]
  },
  {
   "cell_type": "code",
   "execution_count": 30,
   "metadata": {},
   "outputs": [],
   "source": [
    "# Flatten the list of lists to one using a list comprehension\n",
    "complete_ratings_list = [rating for page in complete_ratings_list for rating in page]"
   ]
  },
  {
   "cell_type": "code",
   "execution_count": 32,
   "metadata": {},
   "outputs": [],
   "source": [
    "complete_ratings_df = pd.DataFrame(complete_ratings_list)"
   ]
  },
  {
   "cell_type": "code",
   "execution_count": 33,
   "metadata": {},
   "outputs": [],
   "source": [
    "complete_ratings_df = complete_ratings_df[['username', 'game_ID', 'rating']]"
   ]
  },
  {
   "cell_type": "code",
   "execution_count": 34,
   "metadata": {},
   "outputs": [
    {
     "data": {
      "text/html": [
       "<div>\n",
       "<style scoped>\n",
       "    .dataframe tbody tr th:only-of-type {\n",
       "        vertical-align: middle;\n",
       "    }\n",
       "\n",
       "    .dataframe tbody tr th {\n",
       "        vertical-align: top;\n",
       "    }\n",
       "\n",
       "    .dataframe thead th {\n",
       "        text-align: right;\n",
       "    }\n",
       "</style>\n",
       "<table border=\"1\" class=\"dataframe\">\n",
       "  <thead>\n",
       "    <tr style=\"text-align: right;\">\n",
       "      <th></th>\n",
       "      <th>username</th>\n",
       "      <th>game_ID</th>\n",
       "      <th>rating</th>\n",
       "    </tr>\n",
       "  </thead>\n",
       "  <tbody>\n",
       "    <tr>\n",
       "      <th>6669072</th>\n",
       "      <td>MossGrande</td>\n",
       "      <td>49454</td>\n",
       "      <td>3.0</td>\n",
       "    </tr>\n",
       "    <tr>\n",
       "      <th>6669073</th>\n",
       "      <td>crostino</td>\n",
       "      <td>49454</td>\n",
       "      <td>3.0</td>\n",
       "    </tr>\n",
       "    <tr>\n",
       "      <th>6669074</th>\n",
       "      <td>wolfzell</td>\n",
       "      <td>49454</td>\n",
       "      <td>2.0</td>\n",
       "    </tr>\n",
       "    <tr>\n",
       "      <th>6669075</th>\n",
       "      <td>scatman</td>\n",
       "      <td>49454</td>\n",
       "      <td>2.0</td>\n",
       "    </tr>\n",
       "    <tr>\n",
       "      <th>6669076</th>\n",
       "      <td>Nicodemus42</td>\n",
       "      <td>49454</td>\n",
       "      <td>1.0</td>\n",
       "    </tr>\n",
       "  </tbody>\n",
       "</table>\n",
       "</div>"
      ],
      "text/plain": [
       "            username  game_ID  rating\n",
       "6669072   MossGrande    49454     3.0\n",
       "6669073     crostino    49454     3.0\n",
       "6669074     wolfzell    49454     2.0\n",
       "6669075      scatman    49454     2.0\n",
       "6669076  Nicodemus42    49454     1.0"
      ]
     },
     "execution_count": 34,
     "metadata": {},
     "output_type": "execute_result"
    }
   ],
   "source": [
    "complete_ratings_df.tail(5)"
   ]
  },
  {
   "cell_type": "markdown",
   "metadata": {},
   "source": [
    "### Randomly selecting 50,000 rows of complete_ratings_df to test the dataset"
   ]
  },
  {
   "cell_type": "code",
   "execution_count": 35,
   "metadata": {},
   "outputs": [],
   "source": [
    "# Randomly selecting the 50,000 rows\n",
    "complete_ratings_10k = complete_ratings_df.sample(n = 50000, random_state = 20)"
   ]
  },
  {
   "cell_type": "code",
   "execution_count": 36,
   "metadata": {},
   "outputs": [
    {
     "data": {
      "text/html": [
       "<div>\n",
       "<style scoped>\n",
       "    .dataframe tbody tr th:only-of-type {\n",
       "        vertical-align: middle;\n",
       "    }\n",
       "\n",
       "    .dataframe tbody tr th {\n",
       "        vertical-align: top;\n",
       "    }\n",
       "\n",
       "    .dataframe thead th {\n",
       "        text-align: right;\n",
       "    }\n",
       "</style>\n",
       "<table border=\"1\" class=\"dataframe\">\n",
       "  <thead>\n",
       "    <tr style=\"text-align: right;\">\n",
       "      <th></th>\n",
       "      <th>username</th>\n",
       "      <th>game_ID</th>\n",
       "      <th>rating</th>\n",
       "    </tr>\n",
       "  </thead>\n",
       "  <tbody>\n",
       "    <tr>\n",
       "      <th>5137903</th>\n",
       "      <td>holf</td>\n",
       "      <td>28023</td>\n",
       "      <td>7.5</td>\n",
       "    </tr>\n",
       "    <tr>\n",
       "      <th>1959756</th>\n",
       "      <td>DigitalCulture</td>\n",
       "      <td>1897</td>\n",
       "      <td>5.0</td>\n",
       "    </tr>\n",
       "    <tr>\n",
       "      <th>2668440</th>\n",
       "      <td>tigercats</td>\n",
       "      <td>3488</td>\n",
       "      <td>6.0</td>\n",
       "    </tr>\n",
       "    <tr>\n",
       "      <th>3303982</th>\n",
       "      <td>scottieGGGG</td>\n",
       "      <td>8203</td>\n",
       "      <td>7.0</td>\n",
       "    </tr>\n",
       "    <tr>\n",
       "      <th>2702311</th>\n",
       "      <td>FizFuz</td>\n",
       "      <td>3685</td>\n",
       "      <td>7.0</td>\n",
       "    </tr>\n",
       "    <tr>\n",
       "      <th>...</th>\n",
       "      <td>...</td>\n",
       "      <td>...</td>\n",
       "      <td>...</td>\n",
       "    </tr>\n",
       "    <tr>\n",
       "      <th>1760684</th>\n",
       "      <td>Despair</td>\n",
       "      <td>1345</td>\n",
       "      <td>6.0</td>\n",
       "    </tr>\n",
       "    <tr>\n",
       "      <th>1352042</th>\n",
       "      <td>dogbert1000</td>\n",
       "      <td>811</td>\n",
       "      <td>8.0</td>\n",
       "    </tr>\n",
       "    <tr>\n",
       "      <th>4240596</th>\n",
       "      <td>Ke7in11</td>\n",
       "      <td>16992</td>\n",
       "      <td>7.0</td>\n",
       "    </tr>\n",
       "    <tr>\n",
       "      <th>96221</th>\n",
       "      <td>bjhabdas</td>\n",
       "      <td>12</td>\n",
       "      <td>7.0</td>\n",
       "    </tr>\n",
       "    <tr>\n",
       "      <th>1224744</th>\n",
       "      <td>Blackbert</td>\n",
       "      <td>590</td>\n",
       "      <td>6.0</td>\n",
       "    </tr>\n",
       "  </tbody>\n",
       "</table>\n",
       "<p>50000 rows × 3 columns</p>\n",
       "</div>"
      ],
      "text/plain": [
       "               username  game_ID  rating\n",
       "5137903            holf    28023     7.5\n",
       "1959756  DigitalCulture     1897     5.0\n",
       "2668440       tigercats     3488     6.0\n",
       "3303982     scottieGGGG     8203     7.0\n",
       "2702311          FizFuz     3685     7.0\n",
       "...                 ...      ...     ...\n",
       "1760684         Despair     1345     6.0\n",
       "1352042     dogbert1000      811     8.0\n",
       "4240596         Ke7in11    16992     7.0\n",
       "96221          bjhabdas       12     7.0\n",
       "1224744       Blackbert      590     6.0\n",
       "\n",
       "[50000 rows x 3 columns]"
      ]
     },
     "execution_count": 36,
     "metadata": {},
     "output_type": "execute_result"
    }
   ],
   "source": [
    "complete_ratings_10k"
   ]
  },
  {
   "cell_type": "code",
   "execution_count": 37,
   "metadata": {},
   "outputs": [],
   "source": [
    "from surprise import Dataset\n",
    "from surprise import Reader\n",
    "from surprise.model_selection import cross_validate,GridSearchCV"
   ]
  },
  {
   "cell_type": "code",
   "execution_count": 38,
   "metadata": {},
   "outputs": [],
   "source": [
    "reader = Reader(rating_scale=(1, 10))"
   ]
  },
  {
   "cell_type": "code",
   "execution_count": 39,
   "metadata": {},
   "outputs": [],
   "source": [
    "# Loads Pandas dataframe\n",
    "rating_data = Dataset.load_from_df(complete_ratings_10k[['username', 'game_ID', 'rating']], reader)"
   ]
  },
  {
   "cell_type": "code",
   "execution_count": 81,
   "metadata": {
    "scrolled": true
   },
   "outputs": [
    {
     "name": "stdout",
     "output_type": "stream",
     "text": [
      "Estimating biases using als...\n",
      "Computing the msd similarity matrix...\n",
      "Done computing similarity matrix.\n",
      "Estimating biases using als...\n",
      "Computing the msd similarity matrix...\n",
      "Done computing similarity matrix.\n",
      "Estimating biases using als...\n",
      "Computing the msd similarity matrix...\n",
      "Done computing similarity matrix.\n",
      "Computing the msd similarity matrix...\n",
      "Done computing similarity matrix.\n",
      "Computing the msd similarity matrix...\n",
      "Done computing similarity matrix.\n",
      "Computing the msd similarity matrix...\n",
      "Done computing similarity matrix.\n",
      "Computing the msd similarity matrix...\n",
      "Done computing similarity matrix.\n",
      "Computing the msd similarity matrix...\n",
      "Done computing similarity matrix.\n",
      "Computing the msd similarity matrix...\n",
      "Done computing similarity matrix.\n",
      "Computing the msd similarity matrix...\n",
      "Done computing similarity matrix.\n",
      "Computing the msd similarity matrix...\n",
      "Done computing similarity matrix.\n",
      "Computing the msd similarity matrix...\n",
      "Done computing similarity matrix.\n",
      "Estimating biases using als...\n",
      "Estimating biases using als...\n",
      "Estimating biases using als...\n"
     ]
    },
    {
     "data": {
      "text/html": [
       "<div>\n",
       "<style scoped>\n",
       "    .dataframe tbody tr th:only-of-type {\n",
       "        vertical-align: middle;\n",
       "    }\n",
       "\n",
       "    .dataframe tbody tr th {\n",
       "        vertical-align: top;\n",
       "    }\n",
       "\n",
       "    .dataframe thead th {\n",
       "        text-align: right;\n",
       "    }\n",
       "</style>\n",
       "<table border=\"1\" class=\"dataframe\">\n",
       "  <thead>\n",
       "    <tr style=\"text-align: right;\">\n",
       "      <th></th>\n",
       "      <th>test_rmse</th>\n",
       "      <th>fit_time</th>\n",
       "      <th>test_time</th>\n",
       "    </tr>\n",
       "    <tr>\n",
       "      <th>Algorithm</th>\n",
       "      <th></th>\n",
       "      <th></th>\n",
       "      <th></th>\n",
       "    </tr>\n",
       "  </thead>\n",
       "  <tbody>\n",
       "    <tr>\n",
       "      <th>SVD</th>\n",
       "      <td>1.503394</td>\n",
       "      <td>2.814424</td>\n",
       "      <td>32.666214</td>\n",
       "    </tr>\n",
       "    <tr>\n",
       "      <th>BaselineOnly</th>\n",
       "      <td>1.507441</td>\n",
       "      <td>0.393118</td>\n",
       "      <td>0.155054</td>\n",
       "    </tr>\n",
       "    <tr>\n",
       "      <th>KNNBaseline</th>\n",
       "      <td>1.518484</td>\n",
       "      <td>44.611629</td>\n",
       "      <td>73.806944</td>\n",
       "    </tr>\n",
       "    <tr>\n",
       "      <th>SVDpp</th>\n",
       "      <td>1.527421</td>\n",
       "      <td>5.471261</td>\n",
       "      <td>0.221407</td>\n",
       "    </tr>\n",
       "    <tr>\n",
       "      <th>KNNBasic</th>\n",
       "      <td>1.665548</td>\n",
       "      <td>51.948159</td>\n",
       "      <td>33.955794</td>\n",
       "    </tr>\n",
       "    <tr>\n",
       "      <th>CoClustering</th>\n",
       "      <td>1.776849</td>\n",
       "      <td>5.688466</td>\n",
       "      <td>0.109350</td>\n",
       "    </tr>\n",
       "    <tr>\n",
       "      <th>KNNWithMeans</th>\n",
       "      <td>1.779789</td>\n",
       "      <td>61.708028</td>\n",
       "      <td>40.270545</td>\n",
       "    </tr>\n",
       "    <tr>\n",
       "      <th>KNNWithZScore</th>\n",
       "      <td>1.783237</td>\n",
       "      <td>46.179942</td>\n",
       "      <td>15.265567</td>\n",
       "    </tr>\n",
       "    <tr>\n",
       "      <th>SlopeOne</th>\n",
       "      <td>1.784331</td>\n",
       "      <td>0.729425</td>\n",
       "      <td>0.121677</td>\n",
       "    </tr>\n",
       "    <tr>\n",
       "      <th>NMF</th>\n",
       "      <td>2.033936</td>\n",
       "      <td>5.771079</td>\n",
       "      <td>0.205073</td>\n",
       "    </tr>\n",
       "    <tr>\n",
       "      <th>NormalPredictor</th>\n",
       "      <td>2.322187</td>\n",
       "      <td>0.070478</td>\n",
       "      <td>0.156901</td>\n",
       "    </tr>\n",
       "  </tbody>\n",
       "</table>\n",
       "</div>"
      ],
      "text/plain": [
       "                 test_rmse   fit_time  test_time\n",
       "Algorithm                                       \n",
       "SVD               1.503394   2.814424  32.666214\n",
       "BaselineOnly      1.507441   0.393118   0.155054\n",
       "KNNBaseline       1.518484  44.611629  73.806944\n",
       "SVDpp             1.527421   5.471261   0.221407\n",
       "KNNBasic          1.665548  51.948159  33.955794\n",
       "CoClustering      1.776849   5.688466   0.109350\n",
       "KNNWithMeans      1.779789  61.708028  40.270545\n",
       "KNNWithZScore     1.783237  46.179942  15.265567\n",
       "SlopeOne          1.784331   0.729425   0.121677\n",
       "NMF               2.033936   5.771079   0.205073\n",
       "NormalPredictor   2.322187   0.070478   0.156901"
      ]
     },
     "execution_count": 81,
     "metadata": {},
     "output_type": "execute_result"
    }
   ],
   "source": [
    "from surprise import SVD, SVDpp, SlopeOne, NMF, NormalPredictor, KNNBaseline, KNNBasic, KNNWithMeans, KNNWithZScore, BaselineOnly, CoClustering\n",
    "\n",
    "benchmark = []\n",
    "# Iterate over all algorithms\n",
    "for algorithm in [SVD(), SVDpp(), SlopeOne(), NMF(), NormalPredictor(), KNNBaseline(), KNNBasic(), KNNWithMeans(), KNNWithZScore(), BaselineOnly(), CoClustering()]:\n",
    "    # Perform cross validation\n",
    "    results = cross_validate(algorithm, rating_data, measures=['RMSE'], cv=3, verbose=False)\n",
    "    \n",
    "    # Get results & append algorithm name\n",
    "    tmp = pd.DataFrame.from_dict(results).mean(axis=0)\n",
    "    tmp = tmp.append(pd.Series([str(algorithm).split(' ')[0].split('.')[-1]], index=['Algorithm']))\n",
    "    benchmark.append(tmp)\n",
    "    \n",
    "pd.DataFrame(benchmark).set_index('Algorithm').sort_values('test_rmse')    \n"
   ]
  },
  {
   "cell_type": "code",
   "execution_count": 52,
   "metadata": {},
   "outputs": [
    {
     "name": "stdout",
     "output_type": "stream",
     "text": [
      "1.4958252328910397\n",
      "{'n_epochs': 150, 'lr_all': 0.005, 'reg_all': 0.025}\n"
     ]
    }
   ],
   "source": [
    "from surprise.model_selection import GridSearchCV\n",
    "\n",
    "param_grid = {'n_epochs': [50, 150, 200], 'lr_all': [.002, 0.005],\n",
    "              'reg_all': [.01, .025, .05]}\n",
    "gs = GridSearchCV(SVD, param_grid, measures=['rmse', 'mae'], cv=3)\n",
    "\n",
    "gs.fit(rating_data)\n",
    "\n",
    "# best RMSE score\n",
    "print(gs.best_score['rmse'])\n",
    "\n",
    "# combination of parameters that gave the best RMSE score\n",
    "print(gs.best_params['rmse'])"
   ]
  },
  {
   "cell_type": "code",
   "execution_count": 85,
   "metadata": {},
   "outputs": [
    {
     "name": "stdout",
     "output_type": "stream",
     "text": [
      "RMSE: 1.4874\n"
     ]
    },
    {
     "data": {
      "text/plain": [
       "1.4874074264805122"
      ]
     },
     "execution_count": 85,
     "metadata": {},
     "output_type": "execute_result"
    }
   ],
   "source": [
    "# We'll use the famous SVD algorithm.\n",
    "algo = SVD(n_epochs = 150, lr_all = 0.005, reg_all =.025)\n",
    "\n",
    "# Train the algorithm on the trainset, and predict ratings for the testset\n",
    "algo.fit(trainset)\n",
    "predictions = algo.test(testset)\n",
    "\n",
    "# Then compute RMSE\n",
    "accuracy.rmse(predictions)"
   ]
  },
  {
   "cell_type": "markdown",
   "metadata": {},
   "source": [
    "### Memory-based Approach using KNN"
   ]
  },
  {
   "cell_type": "code",
   "execution_count": 80,
   "metadata": {},
   "outputs": [
    {
     "name": "stdout",
     "output_type": "stream",
     "text": [
      "Computing the msd similarity matrix...\n",
      "Done computing similarity matrix.\n",
      "Computing the msd similarity matrix...\n",
      "Done computing similarity matrix.\n",
      "Computing the msd similarity matrix...\n",
      "Done computing similarity matrix.\n",
      "Computing the msd similarity matrix...\n",
      "Done computing similarity matrix.\n",
      "Computing the msd similarity matrix...\n",
      "Done computing similarity matrix.\n",
      "Computing the msd similarity matrix...\n",
      "Done computing similarity matrix.\n",
      "Computing the msd similarity matrix...\n",
      "Done computing similarity matrix.\n",
      "Computing the msd similarity matrix...\n",
      "Done computing similarity matrix.\n",
      "Computing the msd similarity matrix...\n",
      "Done computing similarity matrix.\n",
      "Computing the msd similarity matrix...\n",
      "Done computing similarity matrix.\n",
      "Computing the msd similarity matrix...\n",
      "Done computing similarity matrix.\n",
      "Computing the msd similarity matrix...\n",
      "Done computing similarity matrix.\n",
      "Computing the msd similarity matrix...\n",
      "Done computing similarity matrix.\n",
      "Computing the msd similarity matrix...\n",
      "Done computing similarity matrix.\n",
      "Computing the msd similarity matrix...\n",
      "Done computing similarity matrix.\n",
      "Computing the msd similarity matrix...\n",
      "Done computing similarity matrix.\n",
      "Computing the msd similarity matrix...\n",
      "Done computing similarity matrix.\n",
      "Computing the msd similarity matrix...\n",
      "Done computing similarity matrix.\n",
      "Computing the cosine similarity matrix...\n",
      "Done computing similarity matrix.\n",
      "Computing the cosine similarity matrix...\n",
      "Done computing similarity matrix.\n",
      "Computing the cosine similarity matrix...\n",
      "Done computing similarity matrix.\n",
      "Computing the cosine similarity matrix...\n",
      "Done computing similarity matrix.\n",
      "Computing the cosine similarity matrix...\n",
      "Done computing similarity matrix.\n",
      "Computing the cosine similarity matrix...\n",
      "Done computing similarity matrix.\n",
      "Computing the cosine similarity matrix...\n",
      "Done computing similarity matrix.\n",
      "Computing the cosine similarity matrix...\n",
      "Done computing similarity matrix.\n",
      "Computing the cosine similarity matrix...\n",
      "Done computing similarity matrix.\n",
      "Computing the cosine similarity matrix...\n",
      "Done computing similarity matrix.\n",
      "Computing the cosine similarity matrix...\n",
      "Done computing similarity matrix.\n",
      "Computing the cosine similarity matrix...\n",
      "Done computing similarity matrix.\n",
      "Computing the cosine similarity matrix...\n",
      "Done computing similarity matrix.\n",
      "Computing the cosine similarity matrix...\n",
      "Done computing similarity matrix.\n",
      "Computing the cosine similarity matrix...\n",
      "Done computing similarity matrix.\n",
      "Computing the cosine similarity matrix...\n",
      "Done computing similarity matrix.\n",
      "Computing the cosine similarity matrix...\n",
      "Done computing similarity matrix.\n",
      "Computing the cosine similarity matrix...\n",
      "Done computing similarity matrix.\n",
      "Computing the pearson similarity matrix...\n",
      "Done computing similarity matrix.\n",
      "Computing the pearson similarity matrix...\n",
      "Done computing similarity matrix.\n",
      "Computing the pearson similarity matrix...\n",
      "Done computing similarity matrix.\n",
      "Computing the pearson similarity matrix...\n",
      "Done computing similarity matrix.\n",
      "Computing the pearson similarity matrix...\n",
      "Done computing similarity matrix.\n",
      "Computing the pearson similarity matrix...\n",
      "Done computing similarity matrix.\n",
      "Computing the pearson similarity matrix...\n",
      "Done computing similarity matrix.\n",
      "Computing the pearson similarity matrix...\n",
      "Done computing similarity matrix.\n",
      "Computing the pearson similarity matrix...\n",
      "Done computing similarity matrix.\n",
      "Computing the pearson similarity matrix...\n",
      "Done computing similarity matrix.\n",
      "Computing the pearson similarity matrix...\n",
      "Done computing similarity matrix.\n",
      "Computing the pearson similarity matrix...\n",
      "Done computing similarity matrix.\n",
      "Computing the pearson similarity matrix...\n",
      "Done computing similarity matrix.\n",
      "Computing the pearson similarity matrix...\n",
      "Done computing similarity matrix.\n",
      "Computing the pearson similarity matrix...\n",
      "Done computing similarity matrix.\n",
      "Computing the pearson similarity matrix...\n",
      "Done computing similarity matrix.\n",
      "Computing the pearson similarity matrix...\n",
      "Done computing similarity matrix.\n",
      "Computing the pearson similarity matrix...\n",
      "Done computing similarity matrix.\n",
      "Best RMSE: 1.623663575518912\n",
      "Best params: {'sim_options': {'name': 'msd', 'min_support': 4, 'user_based': False}}\n"
     ]
    }
   ],
   "source": [
    "# Testing different simulation options\n",
    "sim_options = {\n",
    "    \"name\": [\"msd\", \"cosine\", 'pearson'],\n",
    "    \"min_support\": [3, 4, 5],\n",
    "    \"user_based\": [False, True]}\n",
    "\n",
    "param_grid = {\"sim_options\": sim_options}\n",
    "\n",
    "gs = GridSearchCV(KNNWithMeans, param_grid, measures=['rmse'], cv=3)\n",
    "gs.fit(rating_data)\n",
    "\n",
    "print('Best RMSE:', gs.best_score['rmse'])\n",
    "print('Best params:', gs.best_params['rmse'])"
   ]
  },
  {
   "cell_type": "code",
   "execution_count": 88,
   "metadata": {},
   "outputs": [
    {
     "name": "stdout",
     "output_type": "stream",
     "text": [
      "Computing the msd similarity matrix...\n",
      "Done computing similarity matrix.\n"
     ]
    },
    {
     "data": {
      "text/plain": [
       "<surprise.prediction_algorithms.knns.KNNWithMeans at 0x1bcb0982668>"
      ]
     },
     "execution_count": 88,
     "metadata": {},
     "output_type": "execute_result"
    }
   ],
   "source": [
    "# Setting the simulation options\n",
    "sim_options = {\"name\": \"msd\", \"min_support\": 4, \"user_based\": False}\n",
    "\n",
    "algo = KNNWithMeans(sim_options=sim_options)\n",
    "\n",
    "trainingSet = rating_data.build_full_trainset()\n",
    "algo.fit(trainingSet)"
   ]
  },
  {
   "cell_type": "code",
   "execution_count": 94,
   "metadata": {},
   "outputs": [
    {
     "data": {
      "text/plain": [
       "7.0600000000000005"
      ]
     },
     "execution_count": 94,
     "metadata": {},
     "output_type": "execute_result"
    }
   ],
   "source": [
    "prediction = algo.predict('tigercats', 28023)\n",
    "prediction.est"
   ]
  },
  {
   "cell_type": "code",
   "execution_count": 67,
   "metadata": {},
   "outputs": [
    {
     "data": {
      "text/html": [
       "<div>\n",
       "<style scoped>\n",
       "    .dataframe tbody tr th:only-of-type {\n",
       "        vertical-align: middle;\n",
       "    }\n",
       "\n",
       "    .dataframe tbody tr th {\n",
       "        vertical-align: top;\n",
       "    }\n",
       "\n",
       "    .dataframe thead th {\n",
       "        text-align: right;\n",
       "    }\n",
       "</style>\n",
       "<table border=\"1\" class=\"dataframe\">\n",
       "  <thead>\n",
       "    <tr style=\"text-align: right;\">\n",
       "      <th></th>\n",
       "      <th>username</th>\n",
       "      <th>game_ID</th>\n",
       "      <th>rating</th>\n",
       "    </tr>\n",
       "  </thead>\n",
       "  <tbody>\n",
       "    <tr>\n",
       "      <th>5137903</th>\n",
       "      <td>holf</td>\n",
       "      <td>28023</td>\n",
       "      <td>7.5</td>\n",
       "    </tr>\n",
       "    <tr>\n",
       "      <th>1959756</th>\n",
       "      <td>DigitalCulture</td>\n",
       "      <td>1897</td>\n",
       "      <td>5.0</td>\n",
       "    </tr>\n",
       "    <tr>\n",
       "      <th>2668440</th>\n",
       "      <td>tigercats</td>\n",
       "      <td>3488</td>\n",
       "      <td>6.0</td>\n",
       "    </tr>\n",
       "    <tr>\n",
       "      <th>3303982</th>\n",
       "      <td>scottieGGGG</td>\n",
       "      <td>8203</td>\n",
       "      <td>7.0</td>\n",
       "    </tr>\n",
       "    <tr>\n",
       "      <th>2702311</th>\n",
       "      <td>FizFuz</td>\n",
       "      <td>3685</td>\n",
       "      <td>7.0</td>\n",
       "    </tr>\n",
       "    <tr>\n",
       "      <th>...</th>\n",
       "      <td>...</td>\n",
       "      <td>...</td>\n",
       "      <td>...</td>\n",
       "    </tr>\n",
       "    <tr>\n",
       "      <th>1760684</th>\n",
       "      <td>Despair</td>\n",
       "      <td>1345</td>\n",
       "      <td>6.0</td>\n",
       "    </tr>\n",
       "    <tr>\n",
       "      <th>1352042</th>\n",
       "      <td>dogbert1000</td>\n",
       "      <td>811</td>\n",
       "      <td>8.0</td>\n",
       "    </tr>\n",
       "    <tr>\n",
       "      <th>4240596</th>\n",
       "      <td>Ke7in11</td>\n",
       "      <td>16992</td>\n",
       "      <td>7.0</td>\n",
       "    </tr>\n",
       "    <tr>\n",
       "      <th>96221</th>\n",
       "      <td>bjhabdas</td>\n",
       "      <td>12</td>\n",
       "      <td>7.0</td>\n",
       "    </tr>\n",
       "    <tr>\n",
       "      <th>1224744</th>\n",
       "      <td>Blackbert</td>\n",
       "      <td>590</td>\n",
       "      <td>6.0</td>\n",
       "    </tr>\n",
       "  </tbody>\n",
       "</table>\n",
       "<p>50000 rows × 3 columns</p>\n",
       "</div>"
      ],
      "text/plain": [
       "               username  game_ID  rating\n",
       "5137903            holf    28023     7.5\n",
       "1959756  DigitalCulture     1897     5.0\n",
       "2668440       tigercats     3488     6.0\n",
       "3303982     scottieGGGG     8203     7.0\n",
       "2702311          FizFuz     3685     7.0\n",
       "...                 ...      ...     ...\n",
       "1760684         Despair     1345     6.0\n",
       "1352042     dogbert1000      811     8.0\n",
       "4240596         Ke7in11    16992     7.0\n",
       "96221          bjhabdas       12     7.0\n",
       "1224744       Blackbert      590     6.0\n",
       "\n",
       "[50000 rows x 3 columns]"
      ]
     },
     "execution_count": 67,
     "metadata": {},
     "output_type": "execute_result"
    }
   ],
   "source": [
    "complete_ratings_10k"
   ]
  }
 ],
 "metadata": {
  "kernelspec": {
   "display_name": "Python 3",
   "language": "python",
   "name": "python3"
  },
  "language_info": {
   "codemirror_mode": {
    "name": "ipython",
    "version": 3
   },
   "file_extension": ".py",
   "mimetype": "text/x-python",
   "name": "python",
   "nbconvert_exporter": "python",
   "pygments_lexer": "ipython3",
   "version": "3.6.9"
  }
 },
 "nbformat": 4,
 "nbformat_minor": 2
}
