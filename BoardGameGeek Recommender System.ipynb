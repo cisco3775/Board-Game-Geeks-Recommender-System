{
 "cells": [
  {
   "cell_type": "code",
   "execution_count": 34,
   "metadata": {
    "collapsed": true
   },
   "outputs": [],
   "source": [
    "import json\n",
    "import numpy as np\n",
    "import os\n",
    "import pandas as pd\n",
    "import requests\n",
    "import time\n",
    "from xml.etree import ElementTree as ET"
   ]
  },
  {
   "cell_type": "code",
   "execution_count": 45,
   "metadata": {
    "collapsed": true
   },
   "outputs": [],
   "source": [
    "# Lines of code used for checking code:\n",
    "\n",
    "# response = requests.get('https://www.boardgamegeek.com/xmlapi2/thing?id=13')\n",
    "# tree = ET.fromstring(response.content)\n",
    "# List of all the elements\n",
    "#[elem.tag for elem in tree.iter()]\n",
    "# See the whole text in XML format\n",
    "#print(ET.tostring(tree, encoding='utf8').decode('utf8'))"
   ]
  },
  {
   "cell_type": "markdown",
   "metadata": {},
   "source": [
    "## Code to pull boardgame info"
   ]
  },
  {
   "cell_type": "code",
   "execution_count": 35,
   "metadata": {
    "collapsed": true
   },
   "outputs": [],
   "source": [
    "# Creating a function to get the boardgame data from each page\n",
    "\n",
    "def boardgame_info(tree):\n",
    "    \n",
    "    id_num = int(tree[0].attrib['id'])\n",
    "    boardgamecategory = []\n",
    "    boardgamemechanic = []\n",
    "    boardgamedesigner = []\n",
    "    \n",
    "    for i in range(len(tree[0])):\n",
    "        \n",
    "        if tree[0][i].tag == 'name':\n",
    "            if tree[0][i].attrib['type'] == 'primary':\n",
    "                boardgame_name = tree[0][i].attrib['value']\n",
    "                \n",
    "        elif tree[0][i].tag == 'yearpublished':\n",
    "            year_publ = int(tree[0][i].attrib['value'])\n",
    "            \n",
    "        elif tree[0][i].tag == 'minplayers':\n",
    "            minplayers = int(tree[0][i].attrib['value'])\n",
    "            \n",
    "        elif tree[0][i].tag == 'maxplayers':\n",
    "            maxplayers = int(tree[0][i].attrib['value'])   \n",
    "            \n",
    "        elif tree[0][i].tag == 'playingtime':\n",
    "            playingtime = int(tree[0][i].attrib['value']) \n",
    "            \n",
    "        elif tree[0][i].tag == 'minplaytime':\n",
    "            minplaytime = int(tree[0][i].attrib['value']) \n",
    "            \n",
    "        elif tree[0][i].tag == 'maxplaytime':\n",
    "            maxplaytime = int(tree[0][i].attrib['value'])\n",
    "            \n",
    "        elif tree[0][i].tag == 'link':\n",
    "            \n",
    "            if tree[0][i].attrib['type'] == 'boardgamecategory':\n",
    "                boardgamecategory.append(tree[0][i].attrib['value'])\n",
    "                \n",
    "            elif tree[0][i].attrib['type'] == 'boardgamemechanic':\n",
    "                boardgamemechanic.append(tree[0][i].attrib['value'])\n",
    "                \n",
    "            elif tree[0][i].attrib['type'] == 'boardgamedesigner':\n",
    "                boardgamedesigner.append(tree[0][i].attrib['value'])\n",
    "     \n",
    "    keys = ['game ID#', 'boardgame', 'year published', 'min players', 'max players', 'playing time', 'min playing time', 'max playing time', 'category', 'boardgame mechanic', 'boardgamedesigner']\n",
    "    values = [id_num, boardgame_name, year_publ, minplayers, maxplayers, playingtime, minplaytime, maxplaytime, boardgamecategory, boardgamemechanic, boardgamedesigner]\n",
    "    dictionary = dict(zip(keys, values))\n",
    "\n",
    "    return dictionary           "
   ]
  },
  {
   "cell_type": "markdown",
   "metadata": {},
   "source": [
    "## Code to pull boardgame ratings"
   ]
  },
  {
   "cell_type": "code",
   "execution_count": 46,
   "metadata": {
    "collapsed": true
   },
   "outputs": [],
   "source": [
    "# Lines of code used for checking code:\n",
    "\n",
    "# ratings_response = requests.get('https://www.boardgamegeek.com/xmlapi2/thing?id=13&ratingcomments=1&page=1')\n",
    "# ratings_tree = ET.fromstring(ratings_response.content)"
   ]
  },
  {
   "cell_type": "code",
   "execution_count": 36,
   "metadata": {
    "collapsed": true
   },
   "outputs": [],
   "source": [
    "# Creating a function to get the boardgame ratings\n",
    "\n",
    "def get_ratings_per_page(ratings_tree):\n",
    "        \n",
    "    # Figuring out the number of ratings pages\n",
    "    for i in range(len(ratings_tree[0])):\n",
    "        if ratings_tree[0][i].tag == 'comments':\n",
    "            ratings_info = i\n",
    "            num_ratings = float(ratings_tree[0][i].attrib['totalitems'])\n",
    "    #print(ratings_info)\n",
    "\n",
    "    all_local_ratings = []\n",
    "    for i in range(len(ratings_tree[0][ratings_info])):\n",
    "\n",
    "        username = ratings_tree[0][ratings_info][i].attrib['username']\n",
    "        rating = float(ratings_tree[0][ratings_info][i].attrib['rating'])     \n",
    "\n",
    "        ratings_keys = ['username', 'rating']\n",
    "        ratings_values = [username, rating]\n",
    "        ratings_dictionary = dict(zip(ratings_keys, ratings_values))\n",
    "        \n",
    "        all_local_ratings.append(ratings_dictionary)\n",
    "        \n",
    "        #print(ratings_dictionary)\n",
    "    return all_local_ratings"
   ]
  },
  {
   "cell_type": "code",
   "execution_count": 37,
   "metadata": {
    "collapsed": true
   },
   "outputs": [],
   "source": [
    "def get_all_ratings(ID):\n",
    "    \n",
    "    site = 'https://www.boardgamegeek.com/xmlapi2/thing?id='\n",
    "    page_num = ID   \n",
    "    ratings_site = '&ratingcomments=1&page='\n",
    "    ratings_page_num_1 = 1\n",
    "       \n",
    "    ratings_website = site + str(page_num) + ratings_site + str(ratings_page_num_1)\n",
    "    ratings_response = requests.get(ratings_website)\n",
    "    ratings_tree = ET.fromstring(ratings_response.content)\n",
    "        \n",
    "   \n",
    "    # Figuring out the number of ratings pages\n",
    "    num_ratings = 0\n",
    "    for j in range(len(ratings_tree[0])):\n",
    "        if ratings_tree[0][j].tag == 'comments':\n",
    "            num_ratings = float(ratings_tree[0][j].attrib['totalitems'])\n",
    "    #print(num_ratings)\n",
    "    \n",
    "    num_pages = round(num_ratings/100)\n",
    "    if num_pages < num_ratings/100:\n",
    "        num_pages += 1\n",
    "    #print(num_pages)\n",
    "\n",
    "    all_ratings = []\n",
    "    for k in range(num_pages):\n",
    "        ratings_website2 = site + str(page_num) + ratings_site + str(k+1)\n",
    "        ratings_response2 = requests.get(ratings_website2)\n",
    "        ratings_tree2 = ET.fromstring(ratings_response2.content)\n",
    "        #print(k, ratings_website2)\n",
    "        all_ratings.append(get_ratings_per_page(ratings_tree2))\n",
    "        time.sleep(2)        \n",
    "    return all_ratings"
   ]
  },
  {
   "cell_type": "markdown",
   "metadata": {},
   "source": [
    "## Pulling all info and ratings of multiple games"
   ]
  },
  {
   "cell_type": "code",
   "execution_count": 38,
   "metadata": {
    "collapsed": true
   },
   "outputs": [],
   "source": [
    "def get_all_game_info(ID):\n",
    "    \n",
    "    # boardgame websites\n",
    "    site = 'https://www.boardgamegeek.com/xmlapi2/thing?id='\n",
    "    page_num = ID\n",
    "    website = site+str(page_num)        \n",
    "    response = requests.get(website)\n",
    "    tree = ET.fromstring(response.content)\n",
    "       \n",
    "    ratings_site = '&ratingcomments=1&page='\n",
    "    ratings_page_num_1 = 1\n",
    "       \n",
    "    ratings_website = site + str(page_num) + ratings_site + str(ratings_page_num_1)\n",
    "    ratings_response = requests.get(ratings_website)\n",
    "    ratings_tree = ET.fromstring(ratings_response.content) \n",
    "\n",
    "    bg_info = boardgame_info(tree)\n",
    "    bg_ratings = get_all_ratings(ID)\n",
    "    bg_info['ratings'] = bg_ratings\n",
    "    time.sleep(5)         \n",
    "\n",
    "    \n",
    "    return bg_info"
   ]
  },
  {
   "cell_type": "markdown",
   "metadata": {},
   "source": [
    "## Pulling all info from BoardGameGeek's API"
   ]
  },
  {
   "cell_type": "code",
   "execution_count": null,
   "metadata": {
    "collapsed": true
   },
   "outputs": [],
   "source": [
    "for ID in range(1,50001):\n",
    "    site = 'https://www.boardgamegeek.com/xmlapi2/thing?id='\n",
    "    page_num = ID\n",
    "    website = site+str(page_num)        \n",
    "    response = requests.get(website)\n",
    "    tree = ET.fromstring(response.content)\n",
    "\n",
    "    if len(tree) > 0 and tree[0].attrib['type'] == 'boardgame':\n",
    "        ind_bg = get_all_game_info(ID)\n",
    "        #print(ID)\n",
    "        with open('ind_bg_{0}.json'.format(ID), 'w') as json_file:\n",
    "            json.dump(ind_bg, json_file)\n",
    "    \n",
    "    time.sleep(5)"
   ]
  },
  {
   "cell_type": "code",
   "execution_count": 27,
   "metadata": {
    "collapsed": true
   },
   "outputs": [],
   "source": [
    "# updating the path\n",
    "path = 'C:/Users/Ariel/Desktop/BGG_JSON_files/'\n",
    "os.chdir(path)\n",
    "\n",
    "# Loop through all the json files in the forlder\n",
    "ind_bg = []\n",
    "for i in range(1,49984):\n",
    "    \n",
    "    if os.path.exists('ind_bg_{0}.json'.format(i)) == True:\n",
    "        \n",
    "        #open the file\n",
    "        with open('ind_bg_{0}.json'.format(i)) as f:\n",
    "          ind_bg_json = json.load(f)\n",
    "        #ind_bg = pd.DataFrame.from_dict(ind_bg_json, orient = 'index').T\n",
    "        ind_bg.append(ind_bg_json)"
   ]
  },
  {
   "cell_type": "code",
   "execution_count": 33,
   "metadata": {
    "collapsed": true
   },
   "outputs": [],
   "source": [
    "# Path to save board_game_df.csv to \n",
    "path2 = 'C:/Users/Ariel/Desktop/01 DATA SCIENCE/Springboard/Capstone 1/'\n",
    "\n",
    "# saving as csv\n",
    "board_game_df.to_csv (path2+'board_game_df.csv', index = None, header=True) "
   ]
  },
  {
   "cell_type": "code",
   "execution_count": 41,
   "metadata": {},
   "outputs": [],
   "source": [
    "# Updating the path to get board_game_df.csv\n",
    "file = 'C:/Users/Ariel/Desktop/01 DATA SCIENCE/Springboard/Capstone 1/'\n",
    "\n",
    "# Loading board_game_df.csv\n",
    "board_game_df = pd.read_csv(file+'board_game_df.csv', encoding = 'unicode_escape')"
   ]
  },
  {
   "cell_type": "code",
   "execution_count": 42,
   "metadata": {},
   "outputs": [
    {
     "data": {
      "text/html": [
       "<div>\n",
       "<style>\n",
       "    .dataframe thead tr:only-child th {\n",
       "        text-align: right;\n",
       "    }\n",
       "\n",
       "    .dataframe thead th {\n",
       "        text-align: left;\n",
       "    }\n",
       "\n",
       "    .dataframe tbody tr th {\n",
       "        vertical-align: top;\n",
       "    }\n",
       "</style>\n",
       "<table border=\"1\" class=\"dataframe\">\n",
       "  <thead>\n",
       "    <tr style=\"text-align: right;\">\n",
       "      <th></th>\n",
       "      <th>boardgame</th>\n",
       "      <th>boardgame mechanic</th>\n",
       "      <th>boardgamedesigner</th>\n",
       "      <th>category</th>\n",
       "      <th>game ID#</th>\n",
       "      <th>max players</th>\n",
       "      <th>max playing time</th>\n",
       "      <th>min players</th>\n",
       "      <th>min playing time</th>\n",
       "      <th>playing time</th>\n",
       "      <th>ratings</th>\n",
       "      <th>year published</th>\n",
       "    </tr>\n",
       "  </thead>\n",
       "  <tbody>\n",
       "    <tr>\n",
       "      <th>0</th>\n",
       "      <td>Die Macher</td>\n",
       "      <td>['Area Control / Area Influence', 'Auction/Bid...</td>\n",
       "      <td>['Karl-Heinz Schmiel']</td>\n",
       "      <td>['Economic', 'Negotiation', 'Political']</td>\n",
       "      <td>1</td>\n",
       "      <td>5</td>\n",
       "      <td>240</td>\n",
       "      <td>3</td>\n",
       "      <td>240</td>\n",
       "      <td>240</td>\n",
       "      <td>[[{'username': 'jackcres', 'rating': 10.0}, {'...</td>\n",
       "      <td>1986</td>\n",
       "    </tr>\n",
       "    <tr>\n",
       "      <th>1</th>\n",
       "      <td>Dragonmaster</td>\n",
       "      <td>['Trick-taking']</td>\n",
       "      <td>['G. W. \"Jerry\" D'Arcey']</td>\n",
       "      <td>['Card Game', 'Fantasy']</td>\n",
       "      <td>2</td>\n",
       "      <td>4</td>\n",
       "      <td>30</td>\n",
       "      <td>3</td>\n",
       "      <td>30</td>\n",
       "      <td>30</td>\n",
       "      <td>[[{'username': 'bard', 'rating': 10.0}, {'user...</td>\n",
       "      <td>1981</td>\n",
       "    </tr>\n",
       "    <tr>\n",
       "      <th>2</th>\n",
       "      <td>Samurai</td>\n",
       "      <td>['Area Control / Area Influence', 'Hand Manage...</td>\n",
       "      <td>['Reiner Knizia']</td>\n",
       "      <td>['Abstract Strategy', 'Medieval']</td>\n",
       "      <td>3</td>\n",
       "      <td>4</td>\n",
       "      <td>60</td>\n",
       "      <td>2</td>\n",
       "      <td>30</td>\n",
       "      <td>60</td>\n",
       "      <td>[[{'username': 'Paul Gower', 'rating': 10.0}, ...</td>\n",
       "      <td>1998</td>\n",
       "    </tr>\n",
       "    <tr>\n",
       "      <th>3</th>\n",
       "      <td>Tal der Könige</td>\n",
       "      <td>['Action Point Allowance System', 'Area Contro...</td>\n",
       "      <td>['Christian Beierer']</td>\n",
       "      <td>['Ancient']</td>\n",
       "      <td>4</td>\n",
       "      <td>4</td>\n",
       "      <td>60</td>\n",
       "      <td>2</td>\n",
       "      <td>60</td>\n",
       "      <td>60</td>\n",
       "      <td>[[{'username': 'rdsmith', 'rating': 10.0}, {'u...</td>\n",
       "      <td>1992</td>\n",
       "    </tr>\n",
       "    <tr>\n",
       "      <th>4</th>\n",
       "      <td>Acquire</td>\n",
       "      <td>['Hand Management', 'Stock Holding', 'Tile Pla...</td>\n",
       "      <td>['Sid Sackson']</td>\n",
       "      <td>['Economic']</td>\n",
       "      <td>5</td>\n",
       "      <td>6</td>\n",
       "      <td>90</td>\n",
       "      <td>2</td>\n",
       "      <td>90</td>\n",
       "      <td>90</td>\n",
       "      <td>[[{'username': 'Blaster', 'rating': 10.0}, {'u...</td>\n",
       "      <td>1964</td>\n",
       "    </tr>\n",
       "  </tbody>\n",
       "</table>\n",
       "</div>"
      ],
      "text/plain": [
       "        boardgame                                 boardgame mechanic  \\\n",
       "0      Die Macher  ['Area Control / Area Influence', 'Auction/Bid...   \n",
       "1    Dragonmaster                                   ['Trick-taking']   \n",
       "2         Samurai  ['Area Control / Area Influence', 'Hand Manage...   \n",
       "3  Tal der Könige  ['Action Point Allowance System', 'Area Contro...   \n",
       "4         Acquire  ['Hand Management', 'Stock Holding', 'Tile Pla...   \n",
       "\n",
       "           boardgamedesigner                                  category  \\\n",
       "0     ['Karl-Heinz Schmiel']  ['Economic', 'Negotiation', 'Political']   \n",
       "1  ['G. W. \"Jerry\" D'Arcey']                  ['Card Game', 'Fantasy']   \n",
       "2          ['Reiner Knizia']         ['Abstract Strategy', 'Medieval']   \n",
       "3      ['Christian Beierer']                               ['Ancient']   \n",
       "4            ['Sid Sackson']                              ['Economic']   \n",
       "\n",
       "   game ID#  max players  max playing time  min players  min playing time  \\\n",
       "0         1            5               240            3               240   \n",
       "1         2            4                30            3                30   \n",
       "2         3            4                60            2                30   \n",
       "3         4            4                60            2                60   \n",
       "4         5            6                90            2                90   \n",
       "\n",
       "   playing time                                            ratings  \\\n",
       "0           240  [[{'username': 'jackcres', 'rating': 10.0}, {'...   \n",
       "1            30  [[{'username': 'bard', 'rating': 10.0}, {'user...   \n",
       "2            60  [[{'username': 'Paul Gower', 'rating': 10.0}, ...   \n",
       "3            60  [[{'username': 'rdsmith', 'rating': 10.0}, {'u...   \n",
       "4            90  [[{'username': 'Blaster', 'rating': 10.0}, {'u...   \n",
       "\n",
       "   year published  \n",
       "0            1986  \n",
       "1            1981  \n",
       "2            1998  \n",
       "3            1992  \n",
       "4            1964  "
      ]
     },
     "execution_count": 42,
     "metadata": {},
     "output_type": "execute_result"
    }
   ],
   "source": [
    "board_game_df.head()"
   ]
  },
  {
   "cell_type": "code",
   "execution_count": null,
   "metadata": {
    "collapsed": true
   },
   "outputs": [],
   "source": []
  }
 ],
 "metadata": {
  "kernelspec": {
   "display_name": "Python 3",
   "language": "python",
   "name": "python3"
  },
  "language_info": {
   "codemirror_mode": {
    "name": "ipython",
    "version": 3
   },
   "file_extension": ".py",
   "mimetype": "text/x-python",
   "name": "python",
   "nbconvert_exporter": "python",
   "pygments_lexer": "ipython3",
   "version": "3.6.3"
  }
 },
 "nbformat": 4,
 "nbformat_minor": 2
}
